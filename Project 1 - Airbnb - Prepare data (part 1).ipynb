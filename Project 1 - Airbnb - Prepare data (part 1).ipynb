{
 "cells": [
  {
   "cell_type": "markdown",
   "metadata": {},
   "source": [
    "# Airbnb Analysis - Initial EDA & Data Preprocessing\n",
    "\n",
    "This project looks at Airbnb Listing and Review data in Seattle to find meaningful insights that might help new owners to start their business on Airbnb\n",
    "\n",
    "This analysis seeks the answer for 3 questions:\n",
    "1. What features relate to higher ratings?\n",
    "2. How to be a superhost? \n",
    "3. Where my resources should go in different months of a year?\n",
    "\n",
    "## About this document\n",
    "This document is used to prepare data for more detailed EDA and modeling\n"
   ]
  },
  {
   "cell_type": "markdown",
   "metadata": {},
   "source": [
    "# Description of Data\n",
    "The data is sourced from https://www.kaggle.com/airbnb/seattle/data which hosts publicly available data from the Airbnb site. Data was scraped on 1/4/2016 and contained data from 1/4/2016 to 1/2/2017.\n",
    "\n",
    "The dataset comprises of three main tables:\n",
    "\n",
    "**listings** - Detailed listings data showing 92 atttributes for each of the listings. Some of the attributes used in the analysis are price (continuous), longitude (continuous), latitude (continuous), listing_type (categorical), is_superhost (categorical), neighbourhood (categorical), ratings (continuous) among others.\n",
    "\n",
    "**reviews** - Detailed reviews given by the guests with 6 attributes. Key attributes include date (datetime), listing_id (discrete), reviewer_id (discrete) and comment (textual). However, we will not use this data set int he scope of this analysis\n",
    "\n",
    "**calendar** - Provides details about booking for the next year by listing. Four attributes in total including listing_id (discrete), date (datetime), available (categorical) and price (continuous).\n",
    "\n"
   ]
  },
  {
   "cell_type": "markdown",
   "metadata": {},
   "source": [
    "# Summary of Data Preprocessing \n",
    "\n",
    "1. price (listings, calendar): The price column contained data in string format with the currency symbol ‘$’ attached to it. This column was manipulated to contain integer values for analysis.\n",
    "\n",
    "2. date (calendar, listings, reviews): The date was contained in mm-dd-yyyy string format. It was transformed into datetime format obtain weekly and monthly insights.\n",
    "\n",
    "3. Recoding Categorical variables:\n",
    "    - host_response_time: 'within an hour' = 1,'within a few hours' = 2 ,'within a day' = 3 , 'a few days or more = 4\n",
    "\n",
    "    - cancellation_policy: 'flexible' =1, 'moderate'= 2,'strict'= 3\n",
    "  \n",
    "    - neighborhood_type: 'High price' = mean price >100, 'Low price' = mean price <100\n",
    "\n",
    "    - property_type: house, apartment, other\n",
    "    - bed_type: 'real bed' vs 'Other'\n"
   ]
  },
  {
   "cell_type": "markdown",
   "metadata": {},
   "source": [
    "# Summary of Initial Exploratory Analysis:\n",
    "## 'calendar.csv' data\n",
    "- There is a price increase in summer months (June, July, August)\n",
    "- The number of days that the rentals are unavailable is higher in summer months, and at the beginning of the year. Maybe this explains for why price is higher in the summer (low supply and high demand)\n",
    "- An interesting thing is if the property is available for rent >60days/year, it might be illigal (as the property is converted for tourist stay purpose). I want to explore this aspect further. I found that there are way more listings that hve 60 days available, which suggest many owner are using Airbnb as professional renting place and not just \"rent an extra room\" like Airbnb initially is intended to be.\n",
    "\n",
    "## 'listings.csv' data\n",
    "- Magnolia is the most expensive neighborhood while Delridge is the cheapist neighborhood to rent on Airbnb\n",
    "- More EDA results will be in the EDA & Modeling file\n",
    "\n"
   ]
  },
  {
   "cell_type": "markdown",
   "metadata": {},
   "source": [
    "# Table of Content\n",
    "1. [Initial data exploration](#heading1)\n",
    "2. [Prepare data](#heading2)\n",
    "(Validate data, treat missing values, feature engineer, create dummy variables for modeling)\n",
    "    1. [Calendar Data set](#heading2.1)\n",
    "    2. [Listing Data set](#heading2.2)\n"
   ]
  },
  {
   "cell_type": "code",
   "execution_count": 5,
   "metadata": {},
   "outputs": [],
   "source": [
    "import numpy as np\n",
    "import pandas as pd\n",
    "import matplotlib.pyplot as plt\n",
    "import seaborn as sns\n",
    "%matplotlib inline\n",
    "\n",
    "from IPython.display import display"
   ]
  },
  {
   "cell_type": "code",
   "execution_count": 6,
   "metadata": {},
   "outputs": [],
   "source": [
    "listings = pd.read_csv('./seattle/listings.csv')\n",
    "calendar = pd.read_csv('./seattle/calendar.csv')\n",
    "reviews = pd.read_csv('./seattle/reviews.csv')"
   ]
  },
  {
   "cell_type": "markdown",
   "metadata": {},
   "source": [
    "## Explore Data <a name=\"heading1\"></a>"
   ]
  },
  {
   "cell_type": "code",
   "execution_count": 7,
   "metadata": {},
   "outputs": [
    {
     "data": {
      "text/plain": [
       "(3818, 92)"
      ]
     },
     "metadata": {},
     "output_type": "display_data"
    },
    {
     "data": {
      "text/plain": [
       "(1393570, 4)"
      ]
     },
     "metadata": {},
     "output_type": "display_data"
    },
    {
     "data": {
      "text/plain": [
       "(84849, 6)"
      ]
     },
     "metadata": {},
     "output_type": "display_data"
    }
   ],
   "source": [
    "display(listings.shape)\n",
    "display(calendar.shape)\n",
    "display(reviews.shape)"
   ]
  },
  {
   "cell_type": "code",
   "execution_count": 8,
   "metadata": {},
   "outputs": [
    {
     "data": {
      "text/html": [
       "<div>\n",
       "<style scoped>\n",
       "    .dataframe tbody tr th:only-of-type {\n",
       "        vertical-align: middle;\n",
       "    }\n",
       "\n",
       "    .dataframe tbody tr th {\n",
       "        vertical-align: top;\n",
       "    }\n",
       "\n",
       "    .dataframe thead th {\n",
       "        text-align: right;\n",
       "    }\n",
       "</style>\n",
       "<table border=\"1\" class=\"dataframe\">\n",
       "  <thead>\n",
       "    <tr style=\"text-align: right;\">\n",
       "      <th></th>\n",
       "      <th>id</th>\n",
       "      <th>listing_url</th>\n",
       "      <th>scrape_id</th>\n",
       "      <th>last_scraped</th>\n",
       "      <th>name</th>\n",
       "      <th>summary</th>\n",
       "      <th>space</th>\n",
       "      <th>description</th>\n",
       "      <th>experiences_offered</th>\n",
       "      <th>neighborhood_overview</th>\n",
       "      <th>...</th>\n",
       "      <th>review_scores_value</th>\n",
       "      <th>requires_license</th>\n",
       "      <th>license</th>\n",
       "      <th>jurisdiction_names</th>\n",
       "      <th>instant_bookable</th>\n",
       "      <th>cancellation_policy</th>\n",
       "      <th>require_guest_profile_picture</th>\n",
       "      <th>require_guest_phone_verification</th>\n",
       "      <th>calculated_host_listings_count</th>\n",
       "      <th>reviews_per_month</th>\n",
       "    </tr>\n",
       "  </thead>\n",
       "  <tbody>\n",
       "    <tr>\n",
       "      <th>0</th>\n",
       "      <td>241032</td>\n",
       "      <td>https://www.airbnb.com/rooms/241032</td>\n",
       "      <td>20160104002432</td>\n",
       "      <td>2016-01-04</td>\n",
       "      <td>Stylish Queen Anne Apartment</td>\n",
       "      <td>NaN</td>\n",
       "      <td>Make your self at home in this charming one-be...</td>\n",
       "      <td>Make your self at home in this charming one-be...</td>\n",
       "      <td>none</td>\n",
       "      <td>NaN</td>\n",
       "      <td>...</td>\n",
       "      <td>10.0</td>\n",
       "      <td>f</td>\n",
       "      <td>NaN</td>\n",
       "      <td>WASHINGTON</td>\n",
       "      <td>f</td>\n",
       "      <td>moderate</td>\n",
       "      <td>f</td>\n",
       "      <td>f</td>\n",
       "      <td>2</td>\n",
       "      <td>4.07</td>\n",
       "    </tr>\n",
       "    <tr>\n",
       "      <th>1</th>\n",
       "      <td>953595</td>\n",
       "      <td>https://www.airbnb.com/rooms/953595</td>\n",
       "      <td>20160104002432</td>\n",
       "      <td>2016-01-04</td>\n",
       "      <td>Bright &amp; Airy Queen Anne Apartment</td>\n",
       "      <td>Chemically sensitive? We've removed the irrita...</td>\n",
       "      <td>Beautiful, hypoallergenic apartment in an extr...</td>\n",
       "      <td>Chemically sensitive? We've removed the irrita...</td>\n",
       "      <td>none</td>\n",
       "      <td>Queen Anne is a wonderful, truly functional vi...</td>\n",
       "      <td>...</td>\n",
       "      <td>10.0</td>\n",
       "      <td>f</td>\n",
       "      <td>NaN</td>\n",
       "      <td>WASHINGTON</td>\n",
       "      <td>f</td>\n",
       "      <td>strict</td>\n",
       "      <td>t</td>\n",
       "      <td>t</td>\n",
       "      <td>6</td>\n",
       "      <td>1.48</td>\n",
       "    </tr>\n",
       "    <tr>\n",
       "      <th>2</th>\n",
       "      <td>3308979</td>\n",
       "      <td>https://www.airbnb.com/rooms/3308979</td>\n",
       "      <td>20160104002432</td>\n",
       "      <td>2016-01-04</td>\n",
       "      <td>New Modern House-Amazing water view</td>\n",
       "      <td>New modern house built in 2013.  Spectacular s...</td>\n",
       "      <td>Our house is modern, light and fresh with a wa...</td>\n",
       "      <td>New modern house built in 2013.  Spectacular s...</td>\n",
       "      <td>none</td>\n",
       "      <td>Upper Queen Anne is a charming neighborhood fu...</td>\n",
       "      <td>...</td>\n",
       "      <td>10.0</td>\n",
       "      <td>f</td>\n",
       "      <td>NaN</td>\n",
       "      <td>WASHINGTON</td>\n",
       "      <td>f</td>\n",
       "      <td>strict</td>\n",
       "      <td>f</td>\n",
       "      <td>f</td>\n",
       "      <td>2</td>\n",
       "      <td>1.15</td>\n",
       "    </tr>\n",
       "    <tr>\n",
       "      <th>3</th>\n",
       "      <td>7421966</td>\n",
       "      <td>https://www.airbnb.com/rooms/7421966</td>\n",
       "      <td>20160104002432</td>\n",
       "      <td>2016-01-04</td>\n",
       "      <td>Queen Anne Chateau</td>\n",
       "      <td>A charming apartment that sits atop Queen Anne...</td>\n",
       "      <td>NaN</td>\n",
       "      <td>A charming apartment that sits atop Queen Anne...</td>\n",
       "      <td>none</td>\n",
       "      <td>NaN</td>\n",
       "      <td>...</td>\n",
       "      <td>NaN</td>\n",
       "      <td>f</td>\n",
       "      <td>NaN</td>\n",
       "      <td>WASHINGTON</td>\n",
       "      <td>f</td>\n",
       "      <td>flexible</td>\n",
       "      <td>f</td>\n",
       "      <td>f</td>\n",
       "      <td>1</td>\n",
       "      <td>NaN</td>\n",
       "    </tr>\n",
       "    <tr>\n",
       "      <th>4</th>\n",
       "      <td>278830</td>\n",
       "      <td>https://www.airbnb.com/rooms/278830</td>\n",
       "      <td>20160104002432</td>\n",
       "      <td>2016-01-04</td>\n",
       "      <td>Charming craftsman 3 bdm house</td>\n",
       "      <td>Cozy family craftman house in beautiful neighb...</td>\n",
       "      <td>Cozy family craftman house in beautiful neighb...</td>\n",
       "      <td>Cozy family craftman house in beautiful neighb...</td>\n",
       "      <td>none</td>\n",
       "      <td>We are in the beautiful neighborhood of Queen ...</td>\n",
       "      <td>...</td>\n",
       "      <td>9.0</td>\n",
       "      <td>f</td>\n",
       "      <td>NaN</td>\n",
       "      <td>WASHINGTON</td>\n",
       "      <td>f</td>\n",
       "      <td>strict</td>\n",
       "      <td>f</td>\n",
       "      <td>f</td>\n",
       "      <td>1</td>\n",
       "      <td>0.89</td>\n",
       "    </tr>\n",
       "  </tbody>\n",
       "</table>\n",
       "<p>5 rows × 92 columns</p>\n",
       "</div>"
      ],
      "text/plain": [
       "        id                           listing_url       scrape_id last_scraped  \\\n",
       "0   241032   https://www.airbnb.com/rooms/241032  20160104002432   2016-01-04   \n",
       "1   953595   https://www.airbnb.com/rooms/953595  20160104002432   2016-01-04   \n",
       "2  3308979  https://www.airbnb.com/rooms/3308979  20160104002432   2016-01-04   \n",
       "3  7421966  https://www.airbnb.com/rooms/7421966  20160104002432   2016-01-04   \n",
       "4   278830   https://www.airbnb.com/rooms/278830  20160104002432   2016-01-04   \n",
       "\n",
       "                                  name  \\\n",
       "0         Stylish Queen Anne Apartment   \n",
       "1   Bright & Airy Queen Anne Apartment   \n",
       "2  New Modern House-Amazing water view   \n",
       "3                   Queen Anne Chateau   \n",
       "4       Charming craftsman 3 bdm house   \n",
       "\n",
       "                                             summary  \\\n",
       "0                                                NaN   \n",
       "1  Chemically sensitive? We've removed the irrita...   \n",
       "2  New modern house built in 2013.  Spectacular s...   \n",
       "3  A charming apartment that sits atop Queen Anne...   \n",
       "4  Cozy family craftman house in beautiful neighb...   \n",
       "\n",
       "                                               space  \\\n",
       "0  Make your self at home in this charming one-be...   \n",
       "1  Beautiful, hypoallergenic apartment in an extr...   \n",
       "2  Our house is modern, light and fresh with a wa...   \n",
       "3                                                NaN   \n",
       "4  Cozy family craftman house in beautiful neighb...   \n",
       "\n",
       "                                         description experiences_offered  \\\n",
       "0  Make your self at home in this charming one-be...                none   \n",
       "1  Chemically sensitive? We've removed the irrita...                none   \n",
       "2  New modern house built in 2013.  Spectacular s...                none   \n",
       "3  A charming apartment that sits atop Queen Anne...                none   \n",
       "4  Cozy family craftman house in beautiful neighb...                none   \n",
       "\n",
       "                               neighborhood_overview  ... review_scores_value  \\\n",
       "0                                                NaN  ...                10.0   \n",
       "1  Queen Anne is a wonderful, truly functional vi...  ...                10.0   \n",
       "2  Upper Queen Anne is a charming neighborhood fu...  ...                10.0   \n",
       "3                                                NaN  ...                 NaN   \n",
       "4  We are in the beautiful neighborhood of Queen ...  ...                 9.0   \n",
       "\n",
       "  requires_license license jurisdiction_names instant_bookable  \\\n",
       "0                f     NaN         WASHINGTON                f   \n",
       "1                f     NaN         WASHINGTON                f   \n",
       "2                f     NaN         WASHINGTON                f   \n",
       "3                f     NaN         WASHINGTON                f   \n",
       "4                f     NaN         WASHINGTON                f   \n",
       "\n",
       "  cancellation_policy  require_guest_profile_picture  \\\n",
       "0            moderate                              f   \n",
       "1              strict                              t   \n",
       "2              strict                              f   \n",
       "3            flexible                              f   \n",
       "4              strict                              f   \n",
       "\n",
       "  require_guest_phone_verification calculated_host_listings_count  \\\n",
       "0                                f                              2   \n",
       "1                                t                              6   \n",
       "2                                f                              2   \n",
       "3                                f                              1   \n",
       "4                                f                              1   \n",
       "\n",
       "  reviews_per_month  \n",
       "0              4.07  \n",
       "1              1.48  \n",
       "2              1.15  \n",
       "3               NaN  \n",
       "4              0.89  \n",
       "\n",
       "[5 rows x 92 columns]"
      ]
     },
     "execution_count": 8,
     "metadata": {},
     "output_type": "execute_result"
    }
   ],
   "source": [
    "listings.head()"
   ]
  },
  {
   "cell_type": "code",
   "execution_count": 9,
   "metadata": {},
   "outputs": [
    {
     "data": {
      "text/html": [
       "<div>\n",
       "<style scoped>\n",
       "    .dataframe tbody tr th:only-of-type {\n",
       "        vertical-align: middle;\n",
       "    }\n",
       "\n",
       "    .dataframe tbody tr th {\n",
       "        vertical-align: top;\n",
       "    }\n",
       "\n",
       "    .dataframe thead th {\n",
       "        text-align: right;\n",
       "    }\n",
       "</style>\n",
       "<table border=\"1\" class=\"dataframe\">\n",
       "  <thead>\n",
       "    <tr style=\"text-align: right;\">\n",
       "      <th></th>\n",
       "      <th>listing_id</th>\n",
       "      <th>date</th>\n",
       "      <th>available</th>\n",
       "      <th>price</th>\n",
       "    </tr>\n",
       "  </thead>\n",
       "  <tbody>\n",
       "    <tr>\n",
       "      <th>1134931</th>\n",
       "      <td>6782993</td>\n",
       "      <td>2016-05-29</td>\n",
       "      <td>t</td>\n",
       "      <td>$53.00</td>\n",
       "    </tr>\n",
       "    <tr>\n",
       "      <th>1158182</th>\n",
       "      <td>945833</td>\n",
       "      <td>2016-02-10</td>\n",
       "      <td>f</td>\n",
       "      <td>NaN</td>\n",
       "    </tr>\n",
       "    <tr>\n",
       "      <th>162835</th>\n",
       "      <td>3915826</td>\n",
       "      <td>2016-02-18</td>\n",
       "      <td>f</td>\n",
       "      <td>NaN</td>\n",
       "    </tr>\n",
       "    <tr>\n",
       "      <th>1043015</th>\n",
       "      <td>5510720</td>\n",
       "      <td>2016-08-01</td>\n",
       "      <td>f</td>\n",
       "      <td>NaN</td>\n",
       "    </tr>\n",
       "    <tr>\n",
       "      <th>900258</th>\n",
       "      <td>7274556</td>\n",
       "      <td>2016-06-20</td>\n",
       "      <td>t</td>\n",
       "      <td>$65.00</td>\n",
       "    </tr>\n",
       "  </tbody>\n",
       "</table>\n",
       "</div>"
      ],
      "text/plain": [
       "         listing_id        date available   price\n",
       "1134931     6782993  2016-05-29         t  $53.00\n",
       "1158182      945833  2016-02-10         f     NaN\n",
       "162835      3915826  2016-02-18         f     NaN\n",
       "1043015     5510720  2016-08-01         f     NaN\n",
       "900258      7274556  2016-06-20         t  $65.00"
      ]
     },
     "execution_count": 9,
     "metadata": {},
     "output_type": "execute_result"
    }
   ],
   "source": [
    "calendar.sample(5)"
   ]
  },
  {
   "cell_type": "code",
   "execution_count": 10,
   "metadata": {},
   "outputs": [
    {
     "data": {
      "text/html": [
       "<div>\n",
       "<style scoped>\n",
       "    .dataframe tbody tr th:only-of-type {\n",
       "        vertical-align: middle;\n",
       "    }\n",
       "\n",
       "    .dataframe tbody tr th {\n",
       "        vertical-align: top;\n",
       "    }\n",
       "\n",
       "    .dataframe thead th {\n",
       "        text-align: right;\n",
       "    }\n",
       "</style>\n",
       "<table border=\"1\" class=\"dataframe\">\n",
       "  <thead>\n",
       "    <tr style=\"text-align: right;\">\n",
       "      <th></th>\n",
       "      <th>listing_id</th>\n",
       "      <th>id</th>\n",
       "      <th>date</th>\n",
       "      <th>reviewer_id</th>\n",
       "      <th>reviewer_name</th>\n",
       "      <th>comments</th>\n",
       "    </tr>\n",
       "  </thead>\n",
       "  <tbody>\n",
       "    <tr>\n",
       "      <th>55827</th>\n",
       "      <td>7256122</td>\n",
       "      <td>47426894</td>\n",
       "      <td>2015-09-18</td>\n",
       "      <td>27733971</td>\n",
       "      <td>Jon</td>\n",
       "      <td>I had to add one day which made a turn around ...</td>\n",
       "    </tr>\n",
       "    <tr>\n",
       "      <th>11331</th>\n",
       "      <td>234898</td>\n",
       "      <td>1016364</td>\n",
       "      <td>2012-03-19</td>\n",
       "      <td>1581651</td>\n",
       "      <td>Karen</td>\n",
       "      <td>This is a wonderful little apartment with all ...</td>\n",
       "    </tr>\n",
       "    <tr>\n",
       "      <th>55753</th>\n",
       "      <td>139463</td>\n",
       "      <td>22031045</td>\n",
       "      <td>2014-10-28</td>\n",
       "      <td>578249</td>\n",
       "      <td>Larry And Susan</td>\n",
       "      <td>We enjoyed our stay.  The place was exactly as...</td>\n",
       "    </tr>\n",
       "    <tr>\n",
       "      <th>78481</th>\n",
       "      <td>975179</td>\n",
       "      <td>56314360</td>\n",
       "      <td>2015-12-12</td>\n",
       "      <td>29628302</td>\n",
       "      <td>Nathalie</td>\n",
       "      <td>The listing was exactly as described. The hous...</td>\n",
       "    </tr>\n",
       "    <tr>\n",
       "      <th>73530</th>\n",
       "      <td>58503</td>\n",
       "      <td>34852570</td>\n",
       "      <td>2015-06-13</td>\n",
       "      <td>29795996</td>\n",
       "      <td>Ben</td>\n",
       "      <td>Visala is an amazing host and her home is loca...</td>\n",
       "    </tr>\n",
       "  </tbody>\n",
       "</table>\n",
       "</div>"
      ],
      "text/plain": [
       "       listing_id        id        date  reviewer_id    reviewer_name  \\\n",
       "55827     7256122  47426894  2015-09-18     27733971              Jon   \n",
       "11331      234898   1016364  2012-03-19      1581651            Karen   \n",
       "55753      139463  22031045  2014-10-28       578249  Larry And Susan   \n",
       "78481      975179  56314360  2015-12-12     29628302         Nathalie   \n",
       "73530       58503  34852570  2015-06-13     29795996              Ben   \n",
       "\n",
       "                                                comments  \n",
       "55827  I had to add one day which made a turn around ...  \n",
       "11331  This is a wonderful little apartment with all ...  \n",
       "55753  We enjoyed our stay.  The place was exactly as...  \n",
       "78481  The listing was exactly as described. The hous...  \n",
       "73530  Visala is an amazing host and her home is loca...  "
      ]
     },
     "execution_count": 10,
     "metadata": {},
     "output_type": "execute_result"
    }
   ],
   "source": [
    "reviews.sample(5)"
   ]
  },
  {
   "cell_type": "markdown",
   "metadata": {},
   "source": [
    "## Prepare Data <a name=\"heading2\"></a>"
   ]
  },
  {
   "cell_type": "code",
   "execution_count": 11,
   "metadata": {},
   "outputs": [],
   "source": [
    "# Function: Convert object to date\n",
    "def to_date(df, col):\n",
    "    '''\n",
    "    Input: \n",
    "        df: dataframe\n",
    "        col: column in string format (object) you want to convert into date\n",
    "    Output:\n",
    "        df: dataframe with updated column in date format. Every other columns are kept intact\n",
    "    '''\n",
    "    df[col] = pd.to_datetime(df[col])\n",
    "    return df\n",
    "\n",
    "# Function: Convert price object ('$12.00') to numeric value\n",
    "def price_to_numeric(df, col):\n",
    "    '''\n",
    "    Input: \n",
    "        df: dataframe\n",
    "        col: currency column in string format (object) you want to convert into numeric\n",
    "    Output:\n",
    "        df: dataframe with updated column in float format. Every other columns are kept intact\n",
    "    '''\n",
    "    df[col] = df[col].str.replace('$','')\n",
    "    df[col] = df[col].str.replace(',','')\n",
    "    df[col] = df[col].astype('float')\n",
    "    return df\n",
    "\n",
    "\n",
    "# Function: Convert percentage ('100%') to numeric value\n",
    "def perc_to_numeric(df, col):\n",
    "    '''\n",
    "    Input: \n",
    "        df: dataframe\n",
    "        col: percentage column in string format (object) you want to convert into numeric\n",
    "    Output:\n",
    "        df: dataframe with updated column in float format. Every other columns are kept intact\n",
    "    '''\n",
    "    df[col] = df[col].str.replace('%','')\n",
    "    df[col] = df[col].astype('float')\n",
    "    return df"
   ]
  },
  {
   "cell_type": "markdown",
   "metadata": {},
   "source": [
    "### Calendar data <a name=\"heading2.1\"></a>\n",
    "\n",
    "\n",
    "#### Data Type <a name=\"heading2.1.1\"></a>"
   ]
  },
  {
   "cell_type": "code",
   "execution_count": 12,
   "metadata": {
    "scrolled": true
   },
   "outputs": [
    {
     "data": {
      "text/plain": [
       "listing_id     int64\n",
       "date          object\n",
       "available     object\n",
       "price         object\n",
       "dtype: object"
      ]
     },
     "execution_count": 12,
     "metadata": {},
     "output_type": "execute_result"
    }
   ],
   "source": [
    "calendar.dtypes"
   ]
  },
  {
   "cell_type": "code",
   "execution_count": 13,
   "metadata": {},
   "outputs": [
    {
     "data": {
      "text/html": [
       "<div>\n",
       "<style scoped>\n",
       "    .dataframe tbody tr th:only-of-type {\n",
       "        vertical-align: middle;\n",
       "    }\n",
       "\n",
       "    .dataframe tbody tr th {\n",
       "        vertical-align: top;\n",
       "    }\n",
       "\n",
       "    .dataframe thead th {\n",
       "        text-align: right;\n",
       "    }\n",
       "</style>\n",
       "<table border=\"1\" class=\"dataframe\">\n",
       "  <thead>\n",
       "    <tr style=\"text-align: right;\">\n",
       "      <th></th>\n",
       "      <th>listing_id</th>\n",
       "      <th>date</th>\n",
       "      <th>available</th>\n",
       "      <th>price</th>\n",
       "    </tr>\n",
       "  </thead>\n",
       "  <tbody>\n",
       "    <tr>\n",
       "      <th>0</th>\n",
       "      <td>241032</td>\n",
       "      <td>2016-01-04</td>\n",
       "      <td>t</td>\n",
       "      <td>85.0</td>\n",
       "    </tr>\n",
       "    <tr>\n",
       "      <th>1</th>\n",
       "      <td>241032</td>\n",
       "      <td>2016-01-05</td>\n",
       "      <td>t</td>\n",
       "      <td>85.0</td>\n",
       "    </tr>\n",
       "    <tr>\n",
       "      <th>2</th>\n",
       "      <td>241032</td>\n",
       "      <td>2016-01-06</td>\n",
       "      <td>f</td>\n",
       "      <td>NaN</td>\n",
       "    </tr>\n",
       "    <tr>\n",
       "      <th>3</th>\n",
       "      <td>241032</td>\n",
       "      <td>2016-01-07</td>\n",
       "      <td>f</td>\n",
       "      <td>NaN</td>\n",
       "    </tr>\n",
       "    <tr>\n",
       "      <th>4</th>\n",
       "      <td>241032</td>\n",
       "      <td>2016-01-08</td>\n",
       "      <td>f</td>\n",
       "      <td>NaN</td>\n",
       "    </tr>\n",
       "  </tbody>\n",
       "</table>\n",
       "</div>"
      ],
      "text/plain": [
       "   listing_id       date available  price\n",
       "0      241032 2016-01-04         t   85.0\n",
       "1      241032 2016-01-05         t   85.0\n",
       "2      241032 2016-01-06         f    NaN\n",
       "3      241032 2016-01-07         f    NaN\n",
       "4      241032 2016-01-08         f    NaN"
      ]
     },
     "execution_count": 13,
     "metadata": {},
     "output_type": "execute_result"
    }
   ],
   "source": [
    "calendar_df = price_to_numeric(calendar,'price')\n",
    "calendar_df = to_date(calendar, 'date')\n",
    "\n",
    "calendar_df.head()"
   ]
  },
  {
   "cell_type": "code",
   "execution_count": 14,
   "metadata": {},
   "outputs": [
    {
     "data": {
      "text/plain": [
       "listing_id             int64\n",
       "date          datetime64[ns]\n",
       "available             object\n",
       "price                float64\n",
       "dtype: object"
      ]
     },
     "execution_count": 14,
     "metadata": {},
     "output_type": "execute_result"
    }
   ],
   "source": [
    "calendar_df.dtypes"
   ]
  },
  {
   "cell_type": "markdown",
   "metadata": {},
   "source": [
    "#### Missing data <a name=\"heading2.1.2\"></a>\n",
    "\n",
    "This data set has 30% missing values in price column in days that the listings are not available. This might be due to owners not having the place available, so the price is not listed.\n",
    "\n",
    "An interesting thing is if the property is available for rent >60days/year, it might be illigal (as the property is converted for tourist stay purpose). I want to explore this aspect further. "
   ]
  },
  {
   "cell_type": "code",
   "execution_count": 15,
   "metadata": {
    "scrolled": true
   },
   "outputs": [
    {
     "data": {
      "text/plain": [
       "listing_id    0.00000\n",
       "date          0.00000\n",
       "available     0.00000\n",
       "price         0.32939\n",
       "dtype: float64"
      ]
     },
     "execution_count": 15,
     "metadata": {},
     "output_type": "execute_result"
    }
   ],
   "source": [
    "calendar_df.isnull().sum()/calendar.shape[0]"
   ]
  },
  {
   "cell_type": "markdown",
   "metadata": {},
   "source": [
    "#### Data Exploration <a name=\"heading2.1.3\"></a>"
   ]
  },
  {
   "cell_type": "code",
   "execution_count": 16,
   "metadata": {},
   "outputs": [
    {
     "name": "stdout",
     "output_type": "stream",
     "text": [
      "date ranged from 2016-01-04 00:00:00 to 2017-01-02 00:00:00\n"
     ]
    }
   ],
   "source": [
    "print('date ranged from {} to {}'. format(calendar_df.date.min(), calendar_df.date.max()))"
   ]
  },
  {
   "cell_type": "markdown",
   "metadata": {},
   "source": [
    "##### Price Trend <a name=\"heading2.1.4\"></a>\n",
    "We observe increase increase in summer months, as well as posible weekly effect on price (shown by spikes across the line)"
   ]
  },
  {
   "cell_type": "code",
   "execution_count": 17,
   "metadata": {},
   "outputs": [
    {
     "data": {
      "text/plain": [
       "Text(0.5, 1.0, 'Temporal effect on Price')"
      ]
     },
     "execution_count": 17,
     "metadata": {},
     "output_type": "execute_result"
    },
    {
     "data": {
      "image/png": "[encoded data removed]",
      "text/plain": [
       "<Figure size 720x360 with 1 Axes>"
      ]
     },
     "metadata": {
      "needs_background": "light"
     },
     "output_type": "display_data"
    }
   ],
   "source": [
    "# Chart with avaible dates only, explore temporal effect on price \n",
    "chart_data = calendar_df.dropna()\n",
    "chart_data = chart_data.groupby('date')['price'].mean().reset_index()\n",
    "\n",
    "# Graph\n",
    "plt.figure(figsize=(10,5) )\n",
    "plt.plot(chart_data['date'],chart_data['price'])\n",
    "plt.ylabel('price ($)')\n",
    "plt.title('Temporal effect on Price')"
   ]
  },
  {
   "cell_type": "markdown",
   "metadata": {},
   "source": [
    "##### Unavailable listing trend"
   ]
  },
  {
   "cell_type": "code",
   "execution_count": 18,
   "metadata": {},
   "outputs": [
    {
     "data": {
      "text/plain": [
       "Text(0.5, 1.0, 'Trend of Unvailable listings across time in 2016')"
      ]
     },
     "execution_count": 18,
     "metadata": {},
     "output_type": "execute_result"
    },
    {
     "data": {
      "image/png": "[encoded data removed]",
      "text/plain": [
       "<Figure size 720x360 with 1 Axes>"
      ]
     },
     "metadata": {
      "needs_background": "light"
     },
     "output_type": "display_data"
    }
   ],
   "source": [
    "chart_data = calendar_df.copy()\n",
    "\n",
    "plt.figure(figsize=(10,5) )\n",
    "test = calendar_df.groupby(['date','available']).count()['listing_id'].reset_index()\n",
    "test_2 = test.pivot(index='date', columns='available', values='listing_id').reset_index()\n",
    "plt.plot(test_2['date'], test_2['f'], color='olive')\n",
    "plt.xlabel('number of listings unavailable')\n",
    "plt.title('Trend of Unvailable listings across time in 2016')"
   ]
  },
  {
   "cell_type": "markdown",
   "metadata": {},
   "source": [
    "##### Unavailable days per Listings per Year count\n",
    "There are way more listings that hve 60 days available, which suggest many owner are using Airbnb as professional renting place and not just \"rent an extra room\" like Airbnb initially is intended to be."
   ]
  },
  {
   "cell_type": "code",
   "execution_count": 19,
   "metadata": {},
   "outputs": [],
   "source": [
    "chart_data = calendar_df.copy()\n",
    "\n",
    "# count number of days room available\n",
    "avail_days = chart_data[chart_data['available']=='t'].groupby(['listing_id']).count()['date']\\\n",
    "    .reset_index()\n",
    "# Categorize if a listing has more than 60 days available in a year\n",
    "avail_days['days in a year'] = avail_days['date']\\\n",
    "    .apply(lambda col: 'more than 60 days' if col >=60 else 'less than 60 days')"
   ]
  },
  {
   "cell_type": "code",
   "execution_count": 20,
   "metadata": {},
   "outputs": [
    {
     "data": {
      "text/plain": [
       "<matplotlib.axes._subplots.AxesSubplot at 0x118c1fc88>"
      ]
     },
     "execution_count": 20,
     "metadata": {},
     "output_type": "execute_result"
    },
    {
     "data": {
      "image/png": "[encoded data removed]",
      "text/plain": [
       "<Figure size 432x288 with 1 Axes>"
      ]
     },
     "metadata": {
      "needs_background": "light"
     },
     "output_type": "display_data"
    }
   ],
   "source": [
    "sns.countplot(x=\"days in a year\", data=avail_days)"
   ]
  },
  {
   "cell_type": "markdown",
   "metadata": {},
   "source": [
    "#### Make non-na df"
   ]
  },
  {
   "cell_type": "code",
   "execution_count": 21,
   "metadata": {},
   "outputs": [],
   "source": [
    "calendar_df_nonull = calendar_df.dropna()"
   ]
  },
  {
   "cell_type": "code",
   "execution_count": 22,
   "metadata": {},
   "outputs": [
    {
     "data": {
      "text/plain": [
       "listing_id    0\n",
       "date          0\n",
       "available     0\n",
       "price         0\n",
       "dtype: int64"
      ]
     },
     "execution_count": 22,
     "metadata": {},
     "output_type": "execute_result"
    }
   ],
   "source": [
    "calendar_df_nonull.isnull().sum()"
   ]
  },
  {
   "cell_type": "code",
   "execution_count": 23,
   "metadata": {},
   "outputs": [
    {
     "data": {
      "text/plain": [
       "listing_id             int64\n",
       "date          datetime64[ns]\n",
       "available             object\n",
       "price                float64\n",
       "dtype: object"
      ]
     },
     "execution_count": 23,
     "metadata": {},
     "output_type": "execute_result"
    }
   ],
   "source": [
    "calendar_df_nonull.dtypes"
   ]
  },
  {
   "cell_type": "markdown",
   "metadata": {},
   "source": [
    "### Listings Data <a name=\"heading2.2\"></a>\n",
    "\n",
    "Output of this section:\n",
    "\n",
    "- listing_df: Does not contain dummy variables\n",
    "\n",
    "- listing_df_dummy: contains dummy variables to get ready for modeling\n",
    "\n",
    "- listings_price_df: contain dummy + exclude response time, response rate"
   ]
  },
  {
   "cell_type": "markdown",
   "metadata": {},
   "source": [
    "Drop columns that we do not need. We are left with 28 variables"
   ]
  },
  {
   "cell_type": "code",
   "execution_count": 24,
   "metadata": {},
   "outputs": [
    {
     "data": {
      "text/html": [
       "<div>\n",
       "<style scoped>\n",
       "    .dataframe tbody tr th:only-of-type {\n",
       "        vertical-align: middle;\n",
       "    }\n",
       "\n",
       "    .dataframe tbody tr th {\n",
       "        vertical-align: top;\n",
       "    }\n",
       "\n",
       "    .dataframe thead th {\n",
       "        text-align: right;\n",
       "    }\n",
       "</style>\n",
       "<table border=\"1\" class=\"dataframe\">\n",
       "  <thead>\n",
       "    <tr style=\"text-align: right;\">\n",
       "      <th></th>\n",
       "      <th>id</th>\n",
       "      <th>host_id</th>\n",
       "      <th>host_since</th>\n",
       "      <th>host_response_time</th>\n",
       "      <th>host_response_rate</th>\n",
       "      <th>host_is_superhost</th>\n",
       "      <th>host_total_listings_count</th>\n",
       "      <th>neighbourhood_group_cleansed</th>\n",
       "      <th>latitude</th>\n",
       "      <th>longitude</th>\n",
       "      <th>...</th>\n",
       "      <th>guests_included</th>\n",
       "      <th>extra_people</th>\n",
       "      <th>availability_30</th>\n",
       "      <th>availability_60</th>\n",
       "      <th>availability_90</th>\n",
       "      <th>availability_365</th>\n",
       "      <th>number_of_reviews</th>\n",
       "      <th>review_scores_rating</th>\n",
       "      <th>cancellation_policy</th>\n",
       "      <th>reviews_per_month</th>\n",
       "    </tr>\n",
       "  </thead>\n",
       "  <tbody>\n",
       "    <tr>\n",
       "      <th>0</th>\n",
       "      <td>241032</td>\n",
       "      <td>956883</td>\n",
       "      <td>2011-08-11</td>\n",
       "      <td>within a few hours</td>\n",
       "      <td>96%</td>\n",
       "      <td>f</td>\n",
       "      <td>3.0</td>\n",
       "      <td>Queen Anne</td>\n",
       "      <td>47.636289</td>\n",
       "      <td>-122.371025</td>\n",
       "      <td>...</td>\n",
       "      <td>2</td>\n",
       "      <td>$5.00</td>\n",
       "      <td>14</td>\n",
       "      <td>41</td>\n",
       "      <td>71</td>\n",
       "      <td>346</td>\n",
       "      <td>207</td>\n",
       "      <td>95.0</td>\n",
       "      <td>moderate</td>\n",
       "      <td>4.07</td>\n",
       "    </tr>\n",
       "    <tr>\n",
       "      <th>1</th>\n",
       "      <td>953595</td>\n",
       "      <td>5177328</td>\n",
       "      <td>2013-02-21</td>\n",
       "      <td>within an hour</td>\n",
       "      <td>98%</td>\n",
       "      <td>t</td>\n",
       "      <td>6.0</td>\n",
       "      <td>Queen Anne</td>\n",
       "      <td>47.639123</td>\n",
       "      <td>-122.365666</td>\n",
       "      <td>...</td>\n",
       "      <td>1</td>\n",
       "      <td>$0.00</td>\n",
       "      <td>13</td>\n",
       "      <td>13</td>\n",
       "      <td>16</td>\n",
       "      <td>291</td>\n",
       "      <td>43</td>\n",
       "      <td>96.0</td>\n",
       "      <td>strict</td>\n",
       "      <td>1.48</td>\n",
       "    </tr>\n",
       "    <tr>\n",
       "      <th>2</th>\n",
       "      <td>3308979</td>\n",
       "      <td>16708587</td>\n",
       "      <td>2014-06-12</td>\n",
       "      <td>within a few hours</td>\n",
       "      <td>67%</td>\n",
       "      <td>f</td>\n",
       "      <td>2.0</td>\n",
       "      <td>Queen Anne</td>\n",
       "      <td>47.629724</td>\n",
       "      <td>-122.369483</td>\n",
       "      <td>...</td>\n",
       "      <td>10</td>\n",
       "      <td>$25.00</td>\n",
       "      <td>1</td>\n",
       "      <td>6</td>\n",
       "      <td>17</td>\n",
       "      <td>220</td>\n",
       "      <td>20</td>\n",
       "      <td>97.0</td>\n",
       "      <td>strict</td>\n",
       "      <td>1.15</td>\n",
       "    </tr>\n",
       "    <tr>\n",
       "      <th>3</th>\n",
       "      <td>7421966</td>\n",
       "      <td>9851441</td>\n",
       "      <td>2013-11-06</td>\n",
       "      <td>NaN</td>\n",
       "      <td>NaN</td>\n",
       "      <td>f</td>\n",
       "      <td>1.0</td>\n",
       "      <td>Queen Anne</td>\n",
       "      <td>47.638473</td>\n",
       "      <td>-122.369279</td>\n",
       "      <td>...</td>\n",
       "      <td>1</td>\n",
       "      <td>$0.00</td>\n",
       "      <td>0</td>\n",
       "      <td>0</td>\n",
       "      <td>0</td>\n",
       "      <td>143</td>\n",
       "      <td>0</td>\n",
       "      <td>NaN</td>\n",
       "      <td>flexible</td>\n",
       "      <td>NaN</td>\n",
       "    </tr>\n",
       "    <tr>\n",
       "      <th>4</th>\n",
       "      <td>278830</td>\n",
       "      <td>1452570</td>\n",
       "      <td>2011-11-29</td>\n",
       "      <td>within an hour</td>\n",
       "      <td>100%</td>\n",
       "      <td>f</td>\n",
       "      <td>2.0</td>\n",
       "      <td>Queen Anne</td>\n",
       "      <td>47.632918</td>\n",
       "      <td>-122.372471</td>\n",
       "      <td>...</td>\n",
       "      <td>6</td>\n",
       "      <td>$15.00</td>\n",
       "      <td>30</td>\n",
       "      <td>60</td>\n",
       "      <td>90</td>\n",
       "      <td>365</td>\n",
       "      <td>38</td>\n",
       "      <td>92.0</td>\n",
       "      <td>strict</td>\n",
       "      <td>0.89</td>\n",
       "    </tr>\n",
       "  </tbody>\n",
       "</table>\n",
       "<p>5 rows × 28 columns</p>\n",
       "</div>"
      ],
      "text/plain": [
       "        id   host_id  host_since  host_response_time host_response_rate  \\\n",
       "0   241032    956883  2011-08-11  within a few hours                96%   \n",
       "1   953595   5177328  2013-02-21      within an hour                98%   \n",
       "2  3308979  16708587  2014-06-12  within a few hours                67%   \n",
       "3  7421966   9851441  2013-11-06                 NaN                NaN   \n",
       "4   278830   1452570  2011-11-29      within an hour               100%   \n",
       "\n",
       "  host_is_superhost  host_total_listings_count neighbourhood_group_cleansed  \\\n",
       "0                 f                        3.0                   Queen Anne   \n",
       "1                 t                        6.0                   Queen Anne   \n",
       "2                 f                        2.0                   Queen Anne   \n",
       "3                 f                        1.0                   Queen Anne   \n",
       "4                 f                        2.0                   Queen Anne   \n",
       "\n",
       "    latitude   longitude  ... guests_included extra_people  availability_30  \\\n",
       "0  47.636289 -122.371025  ...               2        $5.00               14   \n",
       "1  47.639123 -122.365666  ...               1        $0.00               13   \n",
       "2  47.629724 -122.369483  ...              10       $25.00                1   \n",
       "3  47.638473 -122.369279  ...               1        $0.00                0   \n",
       "4  47.632918 -122.372471  ...               6       $15.00               30   \n",
       "\n",
       "   availability_60  availability_90  availability_365 number_of_reviews  \\\n",
       "0               41               71               346               207   \n",
       "1               13               16               291                43   \n",
       "2                6               17               220                20   \n",
       "3                0                0               143                 0   \n",
       "4               60               90               365                38   \n",
       "\n",
       "  review_scores_rating  cancellation_policy reviews_per_month  \n",
       "0                 95.0             moderate              4.07  \n",
       "1                 96.0               strict              1.48  \n",
       "2                 97.0               strict              1.15  \n",
       "3                  NaN             flexible               NaN  \n",
       "4                 92.0               strict              0.89  \n",
       "\n",
       "[5 rows x 28 columns]"
      ]
     },
     "execution_count": 24,
     "metadata": {},
     "output_type": "execute_result"
    }
   ],
   "source": [
    "cols_to_drop = ['listing_url','scrape_id','last_scraped', 'experiences_offered', 'thumbnail_url',\\\n",
    "                'medium_url','picture_url','xl_picture_url', 'host_url', 'host_name',\\\n",
    "               'host_location','host_about','host_thumbnail_url','host_picture_url', 'host_listings_count',\\\n",
    "               'host_verifications',  'street','host_neighbourhood', 'neighbourhood','neighbourhood_cleansed',\\\n",
    "               'state','country_code','country','is_location_exact','requires_license','license', \\\n",
    "                'market','smart_location','city','host_has_profile_pic','host_identity_verified',\\\n",
    "               'name','summary','space','description','neighborhood_overview','notes','transit',\\\n",
    "               'amenities','square_feet', 'review_scores_accuracy',\\\n",
    "                'review_scores_cleanliness','first_review','last_review','calendar_last_scraped',\\\n",
    "                'review_scores_checkin','review_scores_communication','review_scores_location',\\\n",
    "                'review_scores_value','weekly_price','monthly_price','security_deposit','cleaning_fee','calendar_updated',\\\n",
    "               'jurisdiction_names','require_guest_profile_picture','require_guest_phone_verification',\\\n",
    "                'calculated_host_listings_count', 'host_acceptance_rate','zipcode','instant_bookable', 'minimum_nights',\\\n",
    "               'maximum_nights','has_availability']\n",
    "listings_df = listings.drop(columns = cols_to_drop)\n",
    "listings_df.head()"
   ]
  },
  {
   "cell_type": "code",
   "execution_count": 25,
   "metadata": {},
   "outputs": [],
   "source": [
    "#Rename column\n",
    "listings_df = listings_df.rename(columns={'neighbourhood_group_cleansed':'neighborhood'})"
   ]
  },
  {
   "cell_type": "code",
   "execution_count": 26,
   "metadata": {},
   "outputs": [
    {
     "data": {
      "text/plain": [
       "(3818, 28)"
      ]
     },
     "execution_count": 26,
     "metadata": {},
     "output_type": "execute_result"
    }
   ],
   "source": [
    "listings_df.shape"
   ]
  },
  {
   "cell_type": "code",
   "execution_count": 27,
   "metadata": {
    "scrolled": true
   },
   "outputs": [
    {
     "data": {
      "text/plain": [
       "id                             0\n",
       "host_id                        0\n",
       "host_since                     2\n",
       "host_response_time           523\n",
       "host_response_rate           523\n",
       "host_is_superhost              2\n",
       "host_total_listings_count      2\n",
       "neighborhood                   0\n",
       "latitude                       0\n",
       "longitude                      0\n",
       "property_type                  1\n",
       "room_type                      0\n",
       "accommodates                   0\n",
       "bathrooms                     16\n",
       "bedrooms                       6\n",
       "beds                           1\n",
       "bed_type                       0\n",
       "price                          0\n",
       "guests_included                0\n",
       "extra_people                   0\n",
       "availability_30                0\n",
       "availability_60                0\n",
       "availability_90                0\n",
       "availability_365               0\n",
       "number_of_reviews              0\n",
       "review_scores_rating         647\n",
       "cancellation_policy            0\n",
       "reviews_per_month            627\n",
       "dtype: int64"
      ]
     },
     "execution_count": 27,
     "metadata": {},
     "output_type": "execute_result"
    }
   ],
   "source": [
    "listings_df.isnull().sum()"
   ]
  },
  {
   "cell_type": "code",
   "execution_count": 28,
   "metadata": {},
   "outputs": [
    {
     "data": {
      "text/html": [
       "<div>\n",
       "<style scoped>\n",
       "    .dataframe tbody tr th:only-of-type {\n",
       "        vertical-align: middle;\n",
       "    }\n",
       "\n",
       "    .dataframe tbody tr th {\n",
       "        vertical-align: top;\n",
       "    }\n",
       "\n",
       "    .dataframe thead th {\n",
       "        text-align: right;\n",
       "    }\n",
       "</style>\n",
       "<table border=\"1\" class=\"dataframe\">\n",
       "  <thead>\n",
       "    <tr style=\"text-align: right;\">\n",
       "      <th></th>\n",
       "      <th>id</th>\n",
       "      <th>host_id</th>\n",
       "      <th>host_total_listings_count</th>\n",
       "      <th>latitude</th>\n",
       "      <th>longitude</th>\n",
       "      <th>accommodates</th>\n",
       "      <th>bathrooms</th>\n",
       "      <th>bedrooms</th>\n",
       "      <th>beds</th>\n",
       "      <th>guests_included</th>\n",
       "      <th>availability_30</th>\n",
       "      <th>availability_60</th>\n",
       "      <th>availability_90</th>\n",
       "      <th>availability_365</th>\n",
       "      <th>number_of_reviews</th>\n",
       "      <th>review_scores_rating</th>\n",
       "      <th>reviews_per_month</th>\n",
       "    </tr>\n",
       "  </thead>\n",
       "  <tbody>\n",
       "    <tr>\n",
       "      <th>count</th>\n",
       "      <td>3.818000e+03</td>\n",
       "      <td>3.818000e+03</td>\n",
       "      <td>3816.000000</td>\n",
       "      <td>3818.000000</td>\n",
       "      <td>3818.000000</td>\n",
       "      <td>3818.000000</td>\n",
       "      <td>3802.000000</td>\n",
       "      <td>3812.000000</td>\n",
       "      <td>3817.000000</td>\n",
       "      <td>3818.000000</td>\n",
       "      <td>3818.000000</td>\n",
       "      <td>3818.000000</td>\n",
       "      <td>3818.000000</td>\n",
       "      <td>3818.000000</td>\n",
       "      <td>3818.000000</td>\n",
       "      <td>3171.000000</td>\n",
       "      <td>3191.000000</td>\n",
       "    </tr>\n",
       "    <tr>\n",
       "      <th>mean</th>\n",
       "      <td>5.550111e+06</td>\n",
       "      <td>1.578556e+07</td>\n",
       "      <td>7.157757</td>\n",
       "      <td>47.628961</td>\n",
       "      <td>-122.333103</td>\n",
       "      <td>3.349398</td>\n",
       "      <td>1.259469</td>\n",
       "      <td>1.307712</td>\n",
       "      <td>1.735394</td>\n",
       "      <td>1.672603</td>\n",
       "      <td>16.786276</td>\n",
       "      <td>36.814825</td>\n",
       "      <td>58.082504</td>\n",
       "      <td>244.772656</td>\n",
       "      <td>22.223415</td>\n",
       "      <td>94.539262</td>\n",
       "      <td>2.078919</td>\n",
       "    </tr>\n",
       "    <tr>\n",
       "      <th>std</th>\n",
       "      <td>2.962660e+06</td>\n",
       "      <td>1.458382e+07</td>\n",
       "      <td>28.628149</td>\n",
       "      <td>0.043052</td>\n",
       "      <td>0.031745</td>\n",
       "      <td>1.977599</td>\n",
       "      <td>0.590369</td>\n",
       "      <td>0.883395</td>\n",
       "      <td>1.139480</td>\n",
       "      <td>1.311040</td>\n",
       "      <td>12.173637</td>\n",
       "      <td>23.337541</td>\n",
       "      <td>34.063845</td>\n",
       "      <td>126.772526</td>\n",
       "      <td>37.730892</td>\n",
       "      <td>6.606083</td>\n",
       "      <td>1.822348</td>\n",
       "    </tr>\n",
       "    <tr>\n",
       "      <th>min</th>\n",
       "      <td>3.335000e+03</td>\n",
       "      <td>4.193000e+03</td>\n",
       "      <td>1.000000</td>\n",
       "      <td>47.505088</td>\n",
       "      <td>-122.417219</td>\n",
       "      <td>1.000000</td>\n",
       "      <td>0.000000</td>\n",
       "      <td>0.000000</td>\n",
       "      <td>1.000000</td>\n",
       "      <td>0.000000</td>\n",
       "      <td>0.000000</td>\n",
       "      <td>0.000000</td>\n",
       "      <td>0.000000</td>\n",
       "      <td>0.000000</td>\n",
       "      <td>0.000000</td>\n",
       "      <td>20.000000</td>\n",
       "      <td>0.020000</td>\n",
       "    </tr>\n",
       "    <tr>\n",
       "      <th>25%</th>\n",
       "      <td>3.258256e+06</td>\n",
       "      <td>3.275204e+06</td>\n",
       "      <td>1.000000</td>\n",
       "      <td>47.609418</td>\n",
       "      <td>-122.354320</td>\n",
       "      <td>2.000000</td>\n",
       "      <td>1.000000</td>\n",
       "      <td>1.000000</td>\n",
       "      <td>1.000000</td>\n",
       "      <td>1.000000</td>\n",
       "      <td>2.000000</td>\n",
       "      <td>13.000000</td>\n",
       "      <td>28.000000</td>\n",
       "      <td>124.000000</td>\n",
       "      <td>2.000000</td>\n",
       "      <td>93.000000</td>\n",
       "      <td>0.695000</td>\n",
       "    </tr>\n",
       "    <tr>\n",
       "      <th>50%</th>\n",
       "      <td>6.118244e+06</td>\n",
       "      <td>1.055814e+07</td>\n",
       "      <td>1.000000</td>\n",
       "      <td>47.623601</td>\n",
       "      <td>-122.328874</td>\n",
       "      <td>3.000000</td>\n",
       "      <td>1.000000</td>\n",
       "      <td>1.000000</td>\n",
       "      <td>1.000000</td>\n",
       "      <td>1.000000</td>\n",
       "      <td>20.000000</td>\n",
       "      <td>46.000000</td>\n",
       "      <td>73.000000</td>\n",
       "      <td>308.000000</td>\n",
       "      <td>9.000000</td>\n",
       "      <td>96.000000</td>\n",
       "      <td>1.540000</td>\n",
       "    </tr>\n",
       "    <tr>\n",
       "      <th>75%</th>\n",
       "      <td>8.035127e+06</td>\n",
       "      <td>2.590309e+07</td>\n",
       "      <td>3.000000</td>\n",
       "      <td>47.662694</td>\n",
       "      <td>-122.310800</td>\n",
       "      <td>4.000000</td>\n",
       "      <td>1.000000</td>\n",
       "      <td>2.000000</td>\n",
       "      <td>2.000000</td>\n",
       "      <td>2.000000</td>\n",
       "      <td>30.000000</td>\n",
       "      <td>59.000000</td>\n",
       "      <td>89.000000</td>\n",
       "      <td>360.000000</td>\n",
       "      <td>26.000000</td>\n",
       "      <td>99.000000</td>\n",
       "      <td>3.000000</td>\n",
       "    </tr>\n",
       "    <tr>\n",
       "      <th>max</th>\n",
       "      <td>1.034016e+07</td>\n",
       "      <td>5.320861e+07</td>\n",
       "      <td>502.000000</td>\n",
       "      <td>47.733358</td>\n",
       "      <td>-122.240607</td>\n",
       "      <td>16.000000</td>\n",
       "      <td>8.000000</td>\n",
       "      <td>7.000000</td>\n",
       "      <td>15.000000</td>\n",
       "      <td>15.000000</td>\n",
       "      <td>30.000000</td>\n",
       "      <td>60.000000</td>\n",
       "      <td>90.000000</td>\n",
       "      <td>365.000000</td>\n",
       "      <td>474.000000</td>\n",
       "      <td>100.000000</td>\n",
       "      <td>12.150000</td>\n",
       "    </tr>\n",
       "  </tbody>\n",
       "</table>\n",
       "</div>"
      ],
      "text/plain": [
       "                 id       host_id  host_total_listings_count     latitude  \\\n",
       "count  3.818000e+03  3.818000e+03                3816.000000  3818.000000   \n",
       "mean   5.550111e+06  1.578556e+07                   7.157757    47.628961   \n",
       "std    2.962660e+06  1.458382e+07                  28.628149     0.043052   \n",
       "min    3.335000e+03  4.193000e+03                   1.000000    47.505088   \n",
       "25%    3.258256e+06  3.275204e+06                   1.000000    47.609418   \n",
       "50%    6.118244e+06  1.055814e+07                   1.000000    47.623601   \n",
       "75%    8.035127e+06  2.590309e+07                   3.000000    47.662694   \n",
       "max    1.034016e+07  5.320861e+07                 502.000000    47.733358   \n",
       "\n",
       "         longitude  accommodates    bathrooms     bedrooms         beds  \\\n",
       "count  3818.000000   3818.000000  3802.000000  3812.000000  3817.000000   \n",
       "mean   -122.333103      3.349398     1.259469     1.307712     1.735394   \n",
       "std       0.031745      1.977599     0.590369     0.883395     1.139480   \n",
       "min    -122.417219      1.000000     0.000000     0.000000     1.000000   \n",
       "25%    -122.354320      2.000000     1.000000     1.000000     1.000000   \n",
       "50%    -122.328874      3.000000     1.000000     1.000000     1.000000   \n",
       "75%    -122.310800      4.000000     1.000000     2.000000     2.000000   \n",
       "max    -122.240607     16.000000     8.000000     7.000000    15.000000   \n",
       "\n",
       "       guests_included  availability_30  availability_60  availability_90  \\\n",
       "count      3818.000000      3818.000000      3818.000000      3818.000000   \n",
       "mean          1.672603        16.786276        36.814825        58.082504   \n",
       "std           1.311040        12.173637        23.337541        34.063845   \n",
       "min           0.000000         0.000000         0.000000         0.000000   \n",
       "25%           1.000000         2.000000        13.000000        28.000000   \n",
       "50%           1.000000        20.000000        46.000000        73.000000   \n",
       "75%           2.000000        30.000000        59.000000        89.000000   \n",
       "max          15.000000        30.000000        60.000000        90.000000   \n",
       "\n",
       "       availability_365  number_of_reviews  review_scores_rating  \\\n",
       "count       3818.000000        3818.000000           3171.000000   \n",
       "mean         244.772656          22.223415             94.539262   \n",
       "std          126.772526          37.730892              6.606083   \n",
       "min            0.000000           0.000000             20.000000   \n",
       "25%          124.000000           2.000000             93.000000   \n",
       "50%          308.000000           9.000000             96.000000   \n",
       "75%          360.000000          26.000000             99.000000   \n",
       "max          365.000000         474.000000            100.000000   \n",
       "\n",
       "       reviews_per_month  \n",
       "count        3191.000000  \n",
       "mean            2.078919  \n",
       "std             1.822348  \n",
       "min             0.020000  \n",
       "25%             0.695000  \n",
       "50%             1.540000  \n",
       "75%             3.000000  \n",
       "max            12.150000  "
      ]
     },
     "execution_count": 28,
     "metadata": {},
     "output_type": "execute_result"
    }
   ],
   "source": [
    "listings_df.describe()"
   ]
  },
  {
   "cell_type": "markdown",
   "metadata": {},
   "source": [
    "#### Clean Data type"
   ]
  },
  {
   "cell_type": "code",
   "execution_count": 29,
   "metadata": {},
   "outputs": [],
   "source": [
    "# Edit data type of these 4 columns\n",
    "listings_df = to_date(listings_df, 'host_since')\n",
    "listings_df = perc_to_numeric(listings_df, 'host_response_rate')\n",
    "listings_df = price_to_numeric(listings_df, 'price')\n",
    "listings_df = price_to_numeric(listings_df, 'extra_people')"
   ]
  },
  {
   "cell_type": "markdown",
   "metadata": {},
   "source": [
    "#### Missing data"
   ]
  },
  {
   "cell_type": "markdown",
   "metadata": {},
   "source": [
    "Missing reviews per months are in listing ID that did not receive any review. I will impute 0 for reviews_per_month"
   ]
  },
  {
   "cell_type": "code",
   "execution_count": 30,
   "metadata": {},
   "outputs": [
    {
     "data": {
      "text/plain": [
       "0    4.07\n",
       "1    1.48\n",
       "2    1.15\n",
       "3    0.00\n",
       "4    0.89\n",
       "Name: reviews_per_month, dtype: float64"
      ]
     },
     "execution_count": 30,
     "metadata": {},
     "output_type": "execute_result"
    }
   ],
   "source": [
    "listings_df['reviews_per_month'].fillna(0, inplace = True)\n",
    "listings_df['reviews_per_month'].head()"
   ]
  },
  {
   "cell_type": "markdown",
   "metadata": {},
   "source": [
    "Similarly, missing reviews score are in listing ID that did not receive any review. I will impute 0 for review_scores_rating"
   ]
  },
  {
   "cell_type": "code",
   "execution_count": 31,
   "metadata": {},
   "outputs": [
    {
     "data": {
      "text/plain": [
       "0    95.0\n",
       "1    96.0\n",
       "2    97.0\n",
       "3     0.0\n",
       "4    92.0\n",
       "Name: review_scores_rating, dtype: float64"
      ]
     },
     "execution_count": 31,
     "metadata": {},
     "output_type": "execute_result"
    }
   ],
   "source": [
    "listings_df['review_scores_rating'].fillna(0, inplace = True)\n",
    "listings_df['review_scores_rating'].head()"
   ]
  },
  {
   "cell_type": "markdown",
   "metadata": {},
   "source": [
    "#### Categorical Variable Treatment\n",
    "\n",
    "Summary:\n",
    "- Host_since: translate into days_hosted\n",
    "- Host response time: translate into numeric value (1-2-3-4)\n",
    "- Cancellation policy:  translate into numeric value (1-2-3)\n",
    "- Variables that are made into Dummy variables: property type, room type, neighborhood\n",
    "\n",
    "Output of this section: \n",
    "\n",
    "listing_df: Does not contain dummy variables\n",
    "\n",
    "listing_df_dummy: contains dummy variables to get ready for modeling"
   ]
  },
  {
   "cell_type": "markdown",
   "metadata": {},
   "source": [
    "***Days Hosted*** from host_since, calculate how many days that host has been renting their property"
   ]
  },
  {
   "cell_type": "code",
   "execution_count": 32,
   "metadata": {},
   "outputs": [
    {
     "data": {
      "text/html": [
       "<div>\n",
       "<style scoped>\n",
       "    .dataframe tbody tr th:only-of-type {\n",
       "        vertical-align: middle;\n",
       "    }\n",
       "\n",
       "    .dataframe tbody tr th {\n",
       "        vertical-align: top;\n",
       "    }\n",
       "\n",
       "    .dataframe thead th {\n",
       "        text-align: right;\n",
       "    }\n",
       "</style>\n",
       "<table border=\"1\" class=\"dataframe\">\n",
       "  <thead>\n",
       "    <tr style=\"text-align: right;\">\n",
       "      <th></th>\n",
       "      <th>id</th>\n",
       "      <th>host_id</th>\n",
       "      <th>host_since</th>\n",
       "      <th>host_response_time</th>\n",
       "      <th>host_response_rate</th>\n",
       "      <th>host_is_superhost</th>\n",
       "      <th>host_total_listings_count</th>\n",
       "      <th>neighborhood</th>\n",
       "      <th>latitude</th>\n",
       "      <th>longitude</th>\n",
       "      <th>...</th>\n",
       "      <th>extra_people</th>\n",
       "      <th>availability_30</th>\n",
       "      <th>availability_60</th>\n",
       "      <th>availability_90</th>\n",
       "      <th>availability_365</th>\n",
       "      <th>number_of_reviews</th>\n",
       "      <th>review_scores_rating</th>\n",
       "      <th>cancellation_policy</th>\n",
       "      <th>reviews_per_month</th>\n",
       "      <th>days_hosted</th>\n",
       "    </tr>\n",
       "  </thead>\n",
       "  <tbody>\n",
       "    <tr>\n",
       "      <th>0</th>\n",
       "      <td>241032</td>\n",
       "      <td>956883</td>\n",
       "      <td>2011-08-11</td>\n",
       "      <td>within a few hours</td>\n",
       "      <td>96.0</td>\n",
       "      <td>f</td>\n",
       "      <td>3.0</td>\n",
       "      <td>Queen Anne</td>\n",
       "      <td>47.636289</td>\n",
       "      <td>-122.371025</td>\n",
       "      <td>...</td>\n",
       "      <td>5.0</td>\n",
       "      <td>14</td>\n",
       "      <td>41</td>\n",
       "      <td>71</td>\n",
       "      <td>346</td>\n",
       "      <td>207</td>\n",
       "      <td>95.0</td>\n",
       "      <td>moderate</td>\n",
       "      <td>4.07</td>\n",
       "      <td>1607.0</td>\n",
       "    </tr>\n",
       "    <tr>\n",
       "      <th>1</th>\n",
       "      <td>953595</td>\n",
       "      <td>5177328</td>\n",
       "      <td>2013-02-21</td>\n",
       "      <td>within an hour</td>\n",
       "      <td>98.0</td>\n",
       "      <td>t</td>\n",
       "      <td>6.0</td>\n",
       "      <td>Queen Anne</td>\n",
       "      <td>47.639123</td>\n",
       "      <td>-122.365666</td>\n",
       "      <td>...</td>\n",
       "      <td>0.0</td>\n",
       "      <td>13</td>\n",
       "      <td>13</td>\n",
       "      <td>16</td>\n",
       "      <td>291</td>\n",
       "      <td>43</td>\n",
       "      <td>96.0</td>\n",
       "      <td>strict</td>\n",
       "      <td>1.48</td>\n",
       "      <td>1047.0</td>\n",
       "    </tr>\n",
       "    <tr>\n",
       "      <th>2</th>\n",
       "      <td>3308979</td>\n",
       "      <td>16708587</td>\n",
       "      <td>2014-06-12</td>\n",
       "      <td>within a few hours</td>\n",
       "      <td>67.0</td>\n",
       "      <td>f</td>\n",
       "      <td>2.0</td>\n",
       "      <td>Queen Anne</td>\n",
       "      <td>47.629724</td>\n",
       "      <td>-122.369483</td>\n",
       "      <td>...</td>\n",
       "      <td>25.0</td>\n",
       "      <td>1</td>\n",
       "      <td>6</td>\n",
       "      <td>17</td>\n",
       "      <td>220</td>\n",
       "      <td>20</td>\n",
       "      <td>97.0</td>\n",
       "      <td>strict</td>\n",
       "      <td>1.15</td>\n",
       "      <td>571.0</td>\n",
       "    </tr>\n",
       "    <tr>\n",
       "      <th>3</th>\n",
       "      <td>7421966</td>\n",
       "      <td>9851441</td>\n",
       "      <td>2013-11-06</td>\n",
       "      <td>NaN</td>\n",
       "      <td>NaN</td>\n",
       "      <td>f</td>\n",
       "      <td>1.0</td>\n",
       "      <td>Queen Anne</td>\n",
       "      <td>47.638473</td>\n",
       "      <td>-122.369279</td>\n",
       "      <td>...</td>\n",
       "      <td>0.0</td>\n",
       "      <td>0</td>\n",
       "      <td>0</td>\n",
       "      <td>0</td>\n",
       "      <td>143</td>\n",
       "      <td>0</td>\n",
       "      <td>0.0</td>\n",
       "      <td>flexible</td>\n",
       "      <td>0.00</td>\n",
       "      <td>789.0</td>\n",
       "    </tr>\n",
       "    <tr>\n",
       "      <th>4</th>\n",
       "      <td>278830</td>\n",
       "      <td>1452570</td>\n",
       "      <td>2011-11-29</td>\n",
       "      <td>within an hour</td>\n",
       "      <td>100.0</td>\n",
       "      <td>f</td>\n",
       "      <td>2.0</td>\n",
       "      <td>Queen Anne</td>\n",
       "      <td>47.632918</td>\n",
       "      <td>-122.372471</td>\n",
       "      <td>...</td>\n",
       "      <td>15.0</td>\n",
       "      <td>30</td>\n",
       "      <td>60</td>\n",
       "      <td>90</td>\n",
       "      <td>365</td>\n",
       "      <td>38</td>\n",
       "      <td>92.0</td>\n",
       "      <td>strict</td>\n",
       "      <td>0.89</td>\n",
       "      <td>1497.0</td>\n",
       "    </tr>\n",
       "  </tbody>\n",
       "</table>\n",
       "<p>5 rows × 29 columns</p>\n",
       "</div>"
      ],
      "text/plain": [
       "        id   host_id host_since  host_response_time  host_response_rate  \\\n",
       "0   241032    956883 2011-08-11  within a few hours                96.0   \n",
       "1   953595   5177328 2013-02-21      within an hour                98.0   \n",
       "2  3308979  16708587 2014-06-12  within a few hours                67.0   \n",
       "3  7421966   9851441 2013-11-06                 NaN                 NaN   \n",
       "4   278830   1452570 2011-11-29      within an hour               100.0   \n",
       "\n",
       "  host_is_superhost  host_total_listings_count neighborhood   latitude  \\\n",
       "0                 f                        3.0   Queen Anne  47.636289   \n",
       "1                 t                        6.0   Queen Anne  47.639123   \n",
       "2                 f                        2.0   Queen Anne  47.629724   \n",
       "3                 f                        1.0   Queen Anne  47.638473   \n",
       "4                 f                        2.0   Queen Anne  47.632918   \n",
       "\n",
       "    longitude  ... extra_people availability_30  availability_60  \\\n",
       "0 -122.371025  ...          5.0              14               41   \n",
       "1 -122.365666  ...          0.0              13               13   \n",
       "2 -122.369483  ...         25.0               1                6   \n",
       "3 -122.369279  ...          0.0               0                0   \n",
       "4 -122.372471  ...         15.0              30               60   \n",
       "\n",
       "   availability_90  availability_365  number_of_reviews review_scores_rating  \\\n",
       "0               71               346                207                 95.0   \n",
       "1               16               291                 43                 96.0   \n",
       "2               17               220                 20                 97.0   \n",
       "3                0               143                  0                  0.0   \n",
       "4               90               365                 38                 92.0   \n",
       "\n",
       "   cancellation_policy  reviews_per_month  days_hosted  \n",
       "0             moderate               4.07       1607.0  \n",
       "1               strict               1.48       1047.0  \n",
       "2               strict               1.15        571.0  \n",
       "3             flexible               0.00        789.0  \n",
       "4               strict               0.89       1497.0  \n",
       "\n",
       "[5 rows x 29 columns]"
      ]
     },
     "execution_count": 32,
     "metadata": {},
     "output_type": "execute_result"
    }
   ],
   "source": [
    "listings_df['days_hosted'] = (pd.to_datetime('2016-01-04') - listings_df['host_since']).astype('timedelta64[D]')\n",
    "listings_df.head()"
   ]
  },
  {
   "cell_type": "code",
   "execution_count": 33,
   "metadata": {},
   "outputs": [],
   "source": [
    "# Drop original host_since\n",
    "listings_df.drop(columns = ['host_since'], inplace = True)"
   ]
  },
  {
   "cell_type": "markdown",
   "metadata": {},
   "source": [
    "***Host_response_time*** Convert this variable into numeric value"
   ]
  },
  {
   "cell_type": "code",
   "execution_count": 34,
   "metadata": {},
   "outputs": [
    {
     "data": {
      "text/plain": [
       "<matplotlib.axes._subplots.AxesSubplot at 0x117e5a8d0>"
      ]
     },
     "execution_count": 34,
     "metadata": {},
     "output_type": "execute_result"
    },
    {
     "data": {
      "image/png": "[encoded data removed]",
      "text/plain": [
       "<Figure size 432x288 with 1 Axes>"
      ]
     },
     "metadata": {
      "needs_background": "light"
     },
     "output_type": "display_data"
    }
   ],
   "source": [
    "sns.countplot(y='host_response_time', data =  listings_df)"
   ]
  },
  {
   "cell_type": "code",
   "execution_count": 35,
   "metadata": {},
   "outputs": [
    {
     "data": {
      "text/plain": [
       "0    within a few hours\n",
       "1        within an hour\n",
       "2    within a few hours\n",
       "3                   NaN\n",
       "4        within an hour\n",
       "Name: host_response_time, dtype: object"
      ]
     },
     "execution_count": 35,
     "metadata": {},
     "output_type": "execute_result"
    }
   ],
   "source": [
    "listings_df['host_response_time'].head()"
   ]
  },
  {
   "cell_type": "code",
   "execution_count": 36,
   "metadata": {},
   "outputs": [
    {
     "data": {
      "text/plain": [
       "0    2.0\n",
       "1    1.0\n",
       "2    2.0\n",
       "3    NaN\n",
       "4    1.0\n",
       "Name: host_response_time, dtype: float64"
      ]
     },
     "execution_count": 36,
     "metadata": {},
     "output_type": "execute_result"
    }
   ],
   "source": [
    "listings_df['host_response_time']\\\n",
    "    .replace(['within an hour','within a few hours','within a day', 'a few days or more'],\\\n",
    "                (1, 2, 3, 4), \\\n",
    "                inplace = True)\n",
    "listings_df['host_response_time'].head()"
   ]
  },
  {
   "cell_type": "markdown",
   "metadata": {},
   "source": [
    "***Cancellation policy:*** Convert this variable into numeric value"
   ]
  },
  {
   "cell_type": "code",
   "execution_count": 37,
   "metadata": {},
   "outputs": [
    {
     "data": {
      "text/plain": [
       "<matplotlib.axes._subplots.AxesSubplot at 0x114b522e8>"
      ]
     },
     "execution_count": 37,
     "metadata": {},
     "output_type": "execute_result"
    },
    {
     "data": {
      "image/png": "[encoded data removed]",
      "text/plain": [
       "<Figure size 432x288 with 1 Axes>"
      ]
     },
     "metadata": {
      "needs_background": "light"
     },
     "output_type": "display_data"
    }
   ],
   "source": [
    "sns.countplot(y='cancellation_policy', data =  listings_df)"
   ]
  },
  {
   "cell_type": "code",
   "execution_count": 38,
   "metadata": {},
   "outputs": [
    {
     "data": {
      "text/plain": [
       "0    moderate\n",
       "1      strict\n",
       "2      strict\n",
       "3    flexible\n",
       "4      strict\n",
       "Name: cancellation_policy, dtype: object"
      ]
     },
     "execution_count": 38,
     "metadata": {},
     "output_type": "execute_result"
    }
   ],
   "source": [
    "listings_df['cancellation_policy'].head()"
   ]
  },
  {
   "cell_type": "code",
   "execution_count": 39,
   "metadata": {
    "scrolled": true
   },
   "outputs": [
    {
     "data": {
      "text/plain": [
       "0    2\n",
       "1    3\n",
       "2    3\n",
       "3    1\n",
       "4    3\n",
       "Name: cancellation_policy, dtype: int64"
      ]
     },
     "execution_count": 39,
     "metadata": {},
     "output_type": "execute_result"
    }
   ],
   "source": [
    "listings_df['cancellation_policy']\\\n",
    "    .replace(['flexible','moderate','strict'],\\\n",
    "                (1, 2, 3), \\\n",
    "                inplace = True)\n",
    "listings_df['cancellation_policy'].head()"
   ]
  },
  {
   "cell_type": "markdown",
   "metadata": {},
   "source": [
    "***Make dummy variable: neighborhood, proterty type, room type***"
   ]
  },
  {
   "cell_type": "code",
   "execution_count": 40,
   "metadata": {},
   "outputs": [],
   "source": [
    "# Function that make dummy + add to the original df\n",
    "def make_dummy(df, col):\n",
    "    dummies = pd.get_dummies(df[col], prefix=col)\n",
    "    df = pd.concat([df, dummies], axis = 1)\n",
    "    df = df.drop(columns = col, axis = 1) #drop original column\n",
    "    return df"
   ]
  },
  {
   "cell_type": "markdown",
   "metadata": {},
   "source": [
    "***Neighborhood:***\n",
    "\n",
    "Make dummies variable for this feature after dividing neighborhoods into high-priced and low-priced neighborhood (new variable: neighborhood_type)"
   ]
  },
  {
   "cell_type": "markdown",
   "metadata": {},
   "source": [
    "*Observation*: There are too many neighborhoods that might make each group contains too few observations for prediction. Therefore, I will group into 2 neighborhood groups\n",
    "- neighborhood price high: average rental price >=$100\n",
    "\n",
    "- neighborhood price low: average rental price <$100"
   ]
  },
  {
   "cell_type": "code",
   "execution_count": 41,
   "metadata": {},
   "outputs": [
    {
     "data": {
      "text/plain": [
       "<matplotlib.axes._subplots.AxesSubplot at 0x117fbd630>"
      ]
     },
     "execution_count": 41,
     "metadata": {},
     "output_type": "execute_result"
    },
    {
     "data": {
      "image/png": "[encoded data removed]",
      "text/plain": [
       "<Figure size 432x288 with 1 Axes>"
      ]
     },
     "metadata": {
      "needs_background": "light"
     },
     "output_type": "display_data"
    }
   ],
   "source": [
    "# Count listings in each neighbor\n",
    "sns.countplot(y='neighborhood', data =  listings_df,\\\n",
    "              order=listings_df['neighborhood'].value_counts().index)"
   ]
  },
  {
   "cell_type": "code",
   "execution_count": 42,
   "metadata": {},
   "outputs": [
    {
     "data": {
      "text/plain": [
       "<matplotlib.axes._subplots.AxesSubplot at 0x1181ae3c8>"
      ]
     },
     "execution_count": 42,
     "metadata": {},
     "output_type": "execute_result"
    },
    {
     "data": {
      "image/png": "[encoded data removed]",
      "text/plain": [
       "<Figure size 432x288 with 1 Axes>"
      ]
     },
     "metadata": {
      "needs_background": "light"
     },
     "output_type": "display_data"
    }
   ],
   "source": [
    "sns.barplot(y = 'neighborhood', x = 'price', data =  listings_df, \n",
    "            order=listings_df.groupby('neighborhood')['price'].mean().sort_values(ascending=False).index)\n"
   ]
  },
  {
   "cell_type": "code",
   "execution_count": 43,
   "metadata": {},
   "outputs": [],
   "source": [
    "# Make lowhigh_cat df that contains information about neighborhood type based on average price \n",
    "lowhigh_cat = (listings_df.groupby('neighborhood')['price'].mean() >=100).reset_index()\n",
    "\n",
    "lowhigh_cat.rename(columns = {'price': 'neighborhood_type'}, inplace = True)\n",
    "\n",
    "# change label\n",
    "lowhigh_cat['neighborhood_type'] = lowhigh_cat['neighborhood_type']\\\n",
    "    .apply(lambda var: 'high price' if var == True else 'low price')"
   ]
  },
  {
   "cell_type": "code",
   "execution_count": 44,
   "metadata": {},
   "outputs": [],
   "source": [
    "listings_df = listings_df.merge(lowhigh_cat, how = 'left', on  ='neighborhood')"
   ]
  },
  {
   "cell_type": "markdown",
   "metadata": {},
   "source": [
    "***Bed type:***\n",
    "\n",
    "Make dummies variable for this feature after dividing bed type into Real bed and Other"
   ]
  },
  {
   "cell_type": "code",
   "execution_count": 45,
   "metadata": {},
   "outputs": [
    {
     "data": {
      "text/plain": [
       "<matplotlib.axes._subplots.AxesSubplot at 0x114a90160>"
      ]
     },
     "execution_count": 45,
     "metadata": {},
     "output_type": "execute_result"
    },
    {
     "data": {
      "image/png": "[encoded data removed]",
      "text/plain": [
       "<Figure size 432x288 with 1 Axes>"
      ]
     },
     "metadata": {
      "needs_background": "light"
     },
     "output_type": "display_data"
    }
   ],
   "source": [
    "# Count listings in each bed type\n",
    "sns.countplot(y='bed_type', data =  listings_df,\\\n",
    "              order=listings_df['bed_type'].value_counts().index)"
   ]
  },
  {
   "cell_type": "code",
   "execution_count": 46,
   "metadata": {},
   "outputs": [],
   "source": [
    "listings_df['bed_type'] = listings_df['bed_type']\\\n",
    "    .apply(lambda col: \"Real Bed\" if col == 'Real Bed' else \"Other\")"
   ]
  },
  {
   "cell_type": "code",
   "execution_count": 47,
   "metadata": {},
   "outputs": [
    {
     "data": {
      "text/plain": [
       "<matplotlib.axes._subplots.AxesSubplot at 0x113e76588>"
      ]
     },
     "execution_count": 47,
     "metadata": {},
     "output_type": "execute_result"
    },
    {
     "data": {
      "image/png": "[encoded data removed]",
      "text/plain": [
       "<Figure size 432x288 with 1 Axes>"
      ]
     },
     "metadata": {
      "needs_background": "light"
     },
     "output_type": "display_data"
    }
   ],
   "source": [
    "# Count listings in each bed type\n",
    "sns.countplot(y='bed_type', data =  listings_df,\\\n",
    "              order=listings_df['bed_type'].value_counts().index)"
   ]
  },
  {
   "cell_type": "markdown",
   "metadata": {},
   "source": [
    "***Room_type*** make dummy variable"
   ]
  },
  {
   "cell_type": "code",
   "execution_count": 48,
   "metadata": {},
   "outputs": [
    {
     "data": {
      "text/plain": [
       "<matplotlib.axes._subplots.AxesSubplot at 0x114739f98>"
      ]
     },
     "execution_count": 48,
     "metadata": {},
     "output_type": "execute_result"
    },
    {
     "data": {
      "image/png": "[encoded data removed]",
      "text/plain": [
       "<Figure size 432x288 with 1 Axes>"
      ]
     },
     "metadata": {
      "needs_background": "light"
     },
     "output_type": "display_data"
    }
   ],
   "source": [
    "sns.countplot(y='room_type', data =  listings_df,\\\n",
    "              order=listings_df['room_type'].value_counts().index)"
   ]
  },
  {
   "cell_type": "markdown",
   "metadata": {},
   "source": [
    "***Property_type:*** \n",
    "There are so many types of property that if we make dummies for them all, we will have the dimension problem. Therefore, I will groups property that are not House and Apartment into one Other group\n",
    "\n",
    "Then, we will make dummy variable out of Proterty type"
   ]
  },
  {
   "cell_type": "code",
   "execution_count": 49,
   "metadata": {},
   "outputs": [
    {
     "data": {
      "text/plain": [
       "<matplotlib.axes._subplots.AxesSubplot at 0x114835198>"
      ]
     },
     "execution_count": 49,
     "metadata": {},
     "output_type": "execute_result"
    },
    {
     "data": {
      "image/png": "[encoded data removed]",
      "text/plain": [
       "<Figure size 432x288 with 1 Axes>"
      ]
     },
     "metadata": {
      "needs_background": "light"
     },
     "output_type": "display_data"
    }
   ],
   "source": [
    "sns.countplot(y='property_type', data =  listings_df,\\\n",
    "              order=listings_df['property_type'].value_counts().index)"
   ]
  },
  {
   "cell_type": "code",
   "execution_count": 50,
   "metadata": {},
   "outputs": [],
   "source": [
    "listings_df['property_type'] = listings_df['property_type']\\\n",
    "    .apply(lambda col: \"House\" if col == 'House' else (\"Apartment\" if col ==\"Apartment\" else \"Other\"))"
   ]
  },
  {
   "cell_type": "code",
   "execution_count": 51,
   "metadata": {
    "scrolled": false
   },
   "outputs": [
    {
     "data": {
      "text/plain": [
       "<matplotlib.axes._subplots.AxesSubplot at 0x1166100f0>"
      ]
     },
     "execution_count": 51,
     "metadata": {},
     "output_type": "execute_result"
    },
    {
     "data": {
      "image/png": "[encoded data removed]",
      "text/plain": [
       "<Figure size 432x288 with 1 Axes>"
      ]
     },
     "metadata": {
      "needs_background": "light"
     },
     "output_type": "display_data"
    }
   ],
   "source": [
    "sns.countplot(y='property_type', data =  listings_df,\\\n",
    "              order=listings_df['property_type'].value_counts().index)"
   ]
  },
  {
   "cell_type": "markdown",
   "metadata": {},
   "source": [
    "***Make of Dummy Columns***\n",
    "\n",
    "Make dummy columns out of 'neighborhood_type', 'bed_type', 'property_type', 'room_type', 'host_is_superhost'"
   ]
  },
  {
   "cell_type": "code",
   "execution_count": 52,
   "metadata": {
    "scrolled": true
   },
   "outputs": [],
   "source": [
    "# Make dummy variable\n",
    "listings_df_dummy = make_dummy(listings_df, ['neighborhood_type', 'bed_type', 'property_type',\\\n",
    "                                             'room_type', 'host_is_superhost'])\n",
    "listings_df_dummy = listings_df_dummy.drop(columns = ['neighborhood'], axis = 1)"
   ]
  },
  {
   "cell_type": "code",
   "execution_count": 53,
   "metadata": {
    "scrolled": true
   },
   "outputs": [
    {
     "data": {
      "text/html": [
       "<div>\n",
       "<style scoped>\n",
       "    .dataframe tbody tr th:only-of-type {\n",
       "        vertical-align: middle;\n",
       "    }\n",
       "\n",
       "    .dataframe tbody tr th {\n",
       "        vertical-align: top;\n",
       "    }\n",
       "\n",
       "    .dataframe thead th {\n",
       "        text-align: right;\n",
       "    }\n",
       "</style>\n",
       "<table border=\"1\" class=\"dataframe\">\n",
       "  <thead>\n",
       "    <tr style=\"text-align: right;\">\n",
       "      <th></th>\n",
       "      <th>id</th>\n",
       "      <th>host_id</th>\n",
       "      <th>host_response_time</th>\n",
       "      <th>host_response_rate</th>\n",
       "      <th>host_total_listings_count</th>\n",
       "      <th>latitude</th>\n",
       "      <th>longitude</th>\n",
       "      <th>accommodates</th>\n",
       "      <th>bathrooms</th>\n",
       "      <th>bedrooms</th>\n",
       "      <th>...</th>\n",
       "      <th>bed_type_Other</th>\n",
       "      <th>bed_type_Real Bed</th>\n",
       "      <th>property_type_Apartment</th>\n",
       "      <th>property_type_House</th>\n",
       "      <th>property_type_Other</th>\n",
       "      <th>room_type_Entire home/apt</th>\n",
       "      <th>room_type_Private room</th>\n",
       "      <th>room_type_Shared room</th>\n",
       "      <th>host_is_superhost_f</th>\n",
       "      <th>host_is_superhost_t</th>\n",
       "    </tr>\n",
       "  </thead>\n",
       "  <tbody>\n",
       "    <tr>\n",
       "      <th>0</th>\n",
       "      <td>241032</td>\n",
       "      <td>956883</td>\n",
       "      <td>2.0</td>\n",
       "      <td>96.0</td>\n",
       "      <td>3.0</td>\n",
       "      <td>47.636289</td>\n",
       "      <td>-122.371025</td>\n",
       "      <td>4</td>\n",
       "      <td>1.0</td>\n",
       "      <td>1.0</td>\n",
       "      <td>...</td>\n",
       "      <td>0</td>\n",
       "      <td>1</td>\n",
       "      <td>1</td>\n",
       "      <td>0</td>\n",
       "      <td>0</td>\n",
       "      <td>1</td>\n",
       "      <td>0</td>\n",
       "      <td>0</td>\n",
       "      <td>1</td>\n",
       "      <td>0</td>\n",
       "    </tr>\n",
       "    <tr>\n",
       "      <th>1</th>\n",
       "      <td>953595</td>\n",
       "      <td>5177328</td>\n",
       "      <td>1.0</td>\n",
       "      <td>98.0</td>\n",
       "      <td>6.0</td>\n",
       "      <td>47.639123</td>\n",
       "      <td>-122.365666</td>\n",
       "      <td>4</td>\n",
       "      <td>1.0</td>\n",
       "      <td>1.0</td>\n",
       "      <td>...</td>\n",
       "      <td>0</td>\n",
       "      <td>1</td>\n",
       "      <td>1</td>\n",
       "      <td>0</td>\n",
       "      <td>0</td>\n",
       "      <td>1</td>\n",
       "      <td>0</td>\n",
       "      <td>0</td>\n",
       "      <td>0</td>\n",
       "      <td>1</td>\n",
       "    </tr>\n",
       "    <tr>\n",
       "      <th>2</th>\n",
       "      <td>3308979</td>\n",
       "      <td>16708587</td>\n",
       "      <td>2.0</td>\n",
       "      <td>67.0</td>\n",
       "      <td>2.0</td>\n",
       "      <td>47.629724</td>\n",
       "      <td>-122.369483</td>\n",
       "      <td>11</td>\n",
       "      <td>4.5</td>\n",
       "      <td>5.0</td>\n",
       "      <td>...</td>\n",
       "      <td>0</td>\n",
       "      <td>1</td>\n",
       "      <td>0</td>\n",
       "      <td>1</td>\n",
       "      <td>0</td>\n",
       "      <td>1</td>\n",
       "      <td>0</td>\n",
       "      <td>0</td>\n",
       "      <td>1</td>\n",
       "      <td>0</td>\n",
       "    </tr>\n",
       "    <tr>\n",
       "      <th>3</th>\n",
       "      <td>7421966</td>\n",
       "      <td>9851441</td>\n",
       "      <td>NaN</td>\n",
       "      <td>NaN</td>\n",
       "      <td>1.0</td>\n",
       "      <td>47.638473</td>\n",
       "      <td>-122.369279</td>\n",
       "      <td>3</td>\n",
       "      <td>1.0</td>\n",
       "      <td>0.0</td>\n",
       "      <td>...</td>\n",
       "      <td>0</td>\n",
       "      <td>1</td>\n",
       "      <td>1</td>\n",
       "      <td>0</td>\n",
       "      <td>0</td>\n",
       "      <td>1</td>\n",
       "      <td>0</td>\n",
       "      <td>0</td>\n",
       "      <td>1</td>\n",
       "      <td>0</td>\n",
       "    </tr>\n",
       "    <tr>\n",
       "      <th>4</th>\n",
       "      <td>278830</td>\n",
       "      <td>1452570</td>\n",
       "      <td>1.0</td>\n",
       "      <td>100.0</td>\n",
       "      <td>2.0</td>\n",
       "      <td>47.632918</td>\n",
       "      <td>-122.372471</td>\n",
       "      <td>6</td>\n",
       "      <td>2.0</td>\n",
       "      <td>3.0</td>\n",
       "      <td>...</td>\n",
       "      <td>0</td>\n",
       "      <td>1</td>\n",
       "      <td>0</td>\n",
       "      <td>1</td>\n",
       "      <td>0</td>\n",
       "      <td>1</td>\n",
       "      <td>0</td>\n",
       "      <td>0</td>\n",
       "      <td>1</td>\n",
       "      <td>0</td>\n",
       "    </tr>\n",
       "  </tbody>\n",
       "</table>\n",
       "<p>5 rows × 35 columns</p>\n",
       "</div>"
      ],
      "text/plain": [
       "        id   host_id  host_response_time  host_response_rate  \\\n",
       "0   241032    956883                 2.0                96.0   \n",
       "1   953595   5177328                 1.0                98.0   \n",
       "2  3308979  16708587                 2.0                67.0   \n",
       "3  7421966   9851441                 NaN                 NaN   \n",
       "4   278830   1452570                 1.0               100.0   \n",
       "\n",
       "   host_total_listings_count   latitude   longitude  accommodates  bathrooms  \\\n",
       "0                        3.0  47.636289 -122.371025             4        1.0   \n",
       "1                        6.0  47.639123 -122.365666             4        1.0   \n",
       "2                        2.0  47.629724 -122.369483            11        4.5   \n",
       "3                        1.0  47.638473 -122.369279             3        1.0   \n",
       "4                        2.0  47.632918 -122.372471             6        2.0   \n",
       "\n",
       "   bedrooms  ...  bed_type_Other  bed_type_Real Bed  property_type_Apartment  \\\n",
       "0       1.0  ...               0                  1                        1   \n",
       "1       1.0  ...               0                  1                        1   \n",
       "2       5.0  ...               0                  1                        0   \n",
       "3       0.0  ...               0                  1                        1   \n",
       "4       3.0  ...               0                  1                        0   \n",
       "\n",
       "   property_type_House  property_type_Other  room_type_Entire home/apt  \\\n",
       "0                    0                    0                          1   \n",
       "1                    0                    0                          1   \n",
       "2                    1                    0                          1   \n",
       "3                    0                    0                          1   \n",
       "4                    1                    0                          1   \n",
       "\n",
       "   room_type_Private room  room_type_Shared room  host_is_superhost_f  \\\n",
       "0                       0                      0                    1   \n",
       "1                       0                      0                    0   \n",
       "2                       0                      0                    1   \n",
       "3                       0                      0                    1   \n",
       "4                       0                      0                    1   \n",
       "\n",
       "   host_is_superhost_t  \n",
       "0                    0  \n",
       "1                    1  \n",
       "2                    0  \n",
       "3                    0  \n",
       "4                    0  \n",
       "\n",
       "[5 rows x 35 columns]"
      ]
     },
     "execution_count": 53,
     "metadata": {},
     "output_type": "execute_result"
    }
   ],
   "source": [
    "# Make list of columns we made dummy out of them to keep track for modeling\n",
    "listings_df_dummy.head()"
   ]
  },
  {
   "cell_type": "markdown",
   "metadata": {},
   "source": [
    "### Make final data sets"
   ]
  },
  {
   "cell_type": "markdown",
   "metadata": {},
   "source": [
    "#### Separate listings_df into 2 df (listings_price and listings_review) for modeling"
   ]
  },
  {
   "cell_type": "markdown",
   "metadata": {},
   "source": [
    "I can't find any pattern that explains for missing values in host_response_time and host_response_rate. At first, I suspected that these host did not have having customers, therefore, there is no contact that require responses. However, many of them did hosted people and have reviews.\n",
    "\n",
    "I decided to separate this listings df into 2 df. One is to answer questions about host behaviors-ratings, one is to answer the question about pricing of a rental. By doing this, we do not lose a lot data to find answers for the Price question, because host response behavior might explain less about a rental's price than the rental's location and features."
   ]
  },
  {
   "cell_type": "code",
   "execution_count": 54,
   "metadata": {},
   "outputs": [
    {
     "data": {
      "text/plain": [
       "Index(['id', 'host_id', 'host_response_time', 'host_response_rate',\n",
       "       'host_is_superhost', 'host_total_listings_count', 'neighborhood',\n",
       "       'latitude', 'longitude', 'property_type', 'room_type', 'accommodates',\n",
       "       'bathrooms', 'bedrooms', 'beds', 'bed_type', 'price', 'guests_included',\n",
       "       'extra_people', 'availability_30', 'availability_60', 'availability_90',\n",
       "       'availability_365', 'number_of_reviews', 'review_scores_rating',\n",
       "       'cancellation_policy', 'reviews_per_month', 'days_hosted',\n",
       "       'neighborhood_type'],\n",
       "      dtype='object')"
      ]
     },
     "execution_count": 54,
     "metadata": {},
     "output_type": "execute_result"
    }
   ],
   "source": [
    "listings_df.columns"
   ]
  },
  {
   "cell_type": "code",
   "execution_count": 55,
   "metadata": {},
   "outputs": [
    {
     "data": {
      "text/plain": [
       "Index(['id', 'host_id', 'host_response_time', 'host_response_rate',\n",
       "       'host_total_listings_count', 'latitude', 'longitude', 'accommodates',\n",
       "       'bathrooms', 'bedrooms', 'beds', 'price', 'guests_included',\n",
       "       'extra_people', 'availability_30', 'availability_60', 'availability_90',\n",
       "       'availability_365', 'number_of_reviews', 'review_scores_rating',\n",
       "       'cancellation_policy', 'reviews_per_month', 'days_hosted',\n",
       "       'neighborhood_type_high price', 'neighborhood_type_low price',\n",
       "       'bed_type_Other', 'bed_type_Real Bed', 'property_type_Apartment',\n",
       "       'property_type_House', 'property_type_Other',\n",
       "       'room_type_Entire home/apt', 'room_type_Private room',\n",
       "       'room_type_Shared room', 'host_is_superhost_f', 'host_is_superhost_t'],\n",
       "      dtype='object')"
      ]
     },
     "execution_count": 55,
     "metadata": {},
     "output_type": "execute_result"
    }
   ],
   "source": [
    "listings_df_dummy.columns"
   ]
  },
  {
   "cell_type": "code",
   "execution_count": 56,
   "metadata": {},
   "outputs": [],
   "source": [
    "# To best model for Price, we drop 'host_response_time' and 'host_response_rate' columns\n",
    "listings_df_price = listings_df_dummy[['id', 'host_id', \n",
    "       'host_total_listings_count', 'latitude', 'longitude', 'accommodates',\n",
    "       'bathrooms', 'bedrooms', 'beds', 'price', 'guests_included',\n",
    "       'extra_people', 'availability_30', 'availability_60', 'availability_90',\n",
    "       'availability_365', 'number_of_reviews', 'review_scores_rating',\n",
    "       'cancellation_policy', 'reviews_per_month', 'days_hosted',\n",
    "       'neighborhood_type_high price', 'neighborhood_type_low price',\n",
    "       'bed_type_Other', 'bed_type_Real Bed', 'property_type_Apartment',\n",
    "       'property_type_House', 'property_type_Other',\n",
    "       'room_type_Entire home/apt', 'room_type_Private room',\n",
    "       'room_type_Shared room', 'host_is_superhost_f', 'host_is_superhost_t']]"
   ]
  },
  {
   "cell_type": "code",
   "execution_count": 57,
   "metadata": {},
   "outputs": [
    {
     "data": {
      "text/html": [
       "<div>\n",
       "<style scoped>\n",
       "    .dataframe tbody tr th:only-of-type {\n",
       "        vertical-align: middle;\n",
       "    }\n",
       "\n",
       "    .dataframe tbody tr th {\n",
       "        vertical-align: top;\n",
       "    }\n",
       "\n",
       "    .dataframe thead th {\n",
       "        text-align: right;\n",
       "    }\n",
       "</style>\n",
       "<table border=\"1\" class=\"dataframe\">\n",
       "  <thead>\n",
       "    <tr style=\"text-align: right;\">\n",
       "      <th></th>\n",
       "      <th>id</th>\n",
       "      <th>host_id</th>\n",
       "      <th>host_total_listings_count</th>\n",
       "      <th>latitude</th>\n",
       "      <th>longitude</th>\n",
       "      <th>accommodates</th>\n",
       "      <th>bathrooms</th>\n",
       "      <th>bedrooms</th>\n",
       "      <th>beds</th>\n",
       "      <th>price</th>\n",
       "      <th>...</th>\n",
       "      <th>bed_type_Other</th>\n",
       "      <th>bed_type_Real Bed</th>\n",
       "      <th>property_type_Apartment</th>\n",
       "      <th>property_type_House</th>\n",
       "      <th>property_type_Other</th>\n",
       "      <th>room_type_Entire home/apt</th>\n",
       "      <th>room_type_Private room</th>\n",
       "      <th>room_type_Shared room</th>\n",
       "      <th>host_is_superhost_f</th>\n",
       "      <th>host_is_superhost_t</th>\n",
       "    </tr>\n",
       "  </thead>\n",
       "  <tbody>\n",
       "    <tr>\n",
       "      <th>0</th>\n",
       "      <td>241032</td>\n",
       "      <td>956883</td>\n",
       "      <td>3.0</td>\n",
       "      <td>47.636289</td>\n",
       "      <td>-122.371025</td>\n",
       "      <td>4</td>\n",
       "      <td>1.0</td>\n",
       "      <td>1.0</td>\n",
       "      <td>1.0</td>\n",
       "      <td>85.0</td>\n",
       "      <td>...</td>\n",
       "      <td>0</td>\n",
       "      <td>1</td>\n",
       "      <td>1</td>\n",
       "      <td>0</td>\n",
       "      <td>0</td>\n",
       "      <td>1</td>\n",
       "      <td>0</td>\n",
       "      <td>0</td>\n",
       "      <td>1</td>\n",
       "      <td>0</td>\n",
       "    </tr>\n",
       "  </tbody>\n",
       "</table>\n",
       "<p>1 rows × 33 columns</p>\n",
       "</div>"
      ],
      "text/plain": [
       "       id  host_id  host_total_listings_count   latitude   longitude  \\\n",
       "0  241032   956883                        3.0  47.636289 -122.371025   \n",
       "\n",
       "   accommodates  bathrooms  bedrooms  beds  price  ...  bed_type_Other  \\\n",
       "0             4        1.0       1.0   1.0   85.0  ...               0   \n",
       "\n",
       "   bed_type_Real Bed  property_type_Apartment  property_type_House  \\\n",
       "0                  1                        1                    0   \n",
       "\n",
       "   property_type_Other  room_type_Entire home/apt  room_type_Private room  \\\n",
       "0                    0                          1                       0   \n",
       "\n",
       "   room_type_Shared room  host_is_superhost_f  host_is_superhost_t  \n",
       "0                      0                    1                    0  \n",
       "\n",
       "[1 rows x 33 columns]"
      ]
     },
     "execution_count": 57,
     "metadata": {},
     "output_type": "execute_result"
    }
   ],
   "source": [
    "listings_df_price.head(1)"
   ]
  },
  {
   "cell_type": "markdown",
   "metadata": {},
   "source": [
    "#### Make combined data frame: listing + calendar\n",
    "\n",
    "Input:\n",
    "- calendar_df_nonull\n",
    "- listings_df_price\n",
    "\n",
    "Output: \n",
    "- joined_calendar_listings"
   ]
  },
  {
   "cell_type": "code",
   "execution_count": 58,
   "metadata": {},
   "outputs": [
    {
     "name": "stdout",
     "output_type": "stream",
     "text": [
      "calendar_df_nonull has 934542 rows and 4 columns\n",
      "listings_df_price df has 3818 rows and 33 columns\n"
     ]
    }
   ],
   "source": [
    "print('calendar_df_nonull has {} rows and {} columns'.format(calendar_df_nonull.shape[0], calendar_df_nonull.shape[1]))\n",
    "\n",
    "print('listings_df_price df has {} rows and {} columns'.format(listings_df_price.shape[0], listings_df_price.shape[1]))"
   ]
  },
  {
   "cell_type": "code",
   "execution_count": 59,
   "metadata": {},
   "outputs": [],
   "source": [
    "joined_calendar_listings_dummy = calendar_df_nonull.merge(listings_df_price, how = 'left',\\\n",
    "                                                    left_on = 'listing_id', right_on = 'id')"
   ]
  },
  {
   "cell_type": "code",
   "execution_count": 60,
   "metadata": {},
   "outputs": [
    {
     "data": {
      "text/plain": [
       "(934542, 37)"
      ]
     },
     "execution_count": 60,
     "metadata": {},
     "output_type": "execute_result"
    }
   ],
   "source": [
    "joined_calendar_listings_dummy.shape"
   ]
  },
  {
   "cell_type": "code",
   "execution_count": 61,
   "metadata": {},
   "outputs": [],
   "source": [
    "joined_calendar_listings_dummy.rename(columns={'price_x':'price_calendar'}, inplace = True)"
   ]
  },
  {
   "cell_type": "code",
   "execution_count": 62,
   "metadata": {},
   "outputs": [
    {
     "data": {
      "text/html": [
       "<div>\n",
       "<style scoped>\n",
       "    .dataframe tbody tr th:only-of-type {\n",
       "        vertical-align: middle;\n",
       "    }\n",
       "\n",
       "    .dataframe tbody tr th {\n",
       "        vertical-align: top;\n",
       "    }\n",
       "\n",
       "    .dataframe thead th {\n",
       "        text-align: right;\n",
       "    }\n",
       "</style>\n",
       "<table border=\"1\" class=\"dataframe\">\n",
       "  <thead>\n",
       "    <tr style=\"text-align: right;\">\n",
       "      <th></th>\n",
       "      <th>listing_id</th>\n",
       "      <th>date</th>\n",
       "      <th>available</th>\n",
       "      <th>price_calendar</th>\n",
       "      <th>id</th>\n",
       "      <th>host_id</th>\n",
       "      <th>host_total_listings_count</th>\n",
       "      <th>latitude</th>\n",
       "      <th>longitude</th>\n",
       "      <th>accommodates</th>\n",
       "      <th>...</th>\n",
       "      <th>bed_type_Other</th>\n",
       "      <th>bed_type_Real Bed</th>\n",
       "      <th>property_type_Apartment</th>\n",
       "      <th>property_type_House</th>\n",
       "      <th>property_type_Other</th>\n",
       "      <th>room_type_Entire home/apt</th>\n",
       "      <th>room_type_Private room</th>\n",
       "      <th>room_type_Shared room</th>\n",
       "      <th>host_is_superhost_f</th>\n",
       "      <th>host_is_superhost_t</th>\n",
       "    </tr>\n",
       "  </thead>\n",
       "  <tbody>\n",
       "    <tr>\n",
       "      <th>0</th>\n",
       "      <td>241032</td>\n",
       "      <td>2016-01-04</td>\n",
       "      <td>t</td>\n",
       "      <td>85.0</td>\n",
       "      <td>241032</td>\n",
       "      <td>956883</td>\n",
       "      <td>3.0</td>\n",
       "      <td>47.636289</td>\n",
       "      <td>-122.371025</td>\n",
       "      <td>4</td>\n",
       "      <td>...</td>\n",
       "      <td>0</td>\n",
       "      <td>1</td>\n",
       "      <td>1</td>\n",
       "      <td>0</td>\n",
       "      <td>0</td>\n",
       "      <td>1</td>\n",
       "      <td>0</td>\n",
       "      <td>0</td>\n",
       "      <td>1</td>\n",
       "      <td>0</td>\n",
       "    </tr>\n",
       "    <tr>\n",
       "      <th>1</th>\n",
       "      <td>241032</td>\n",
       "      <td>2016-01-05</td>\n",
       "      <td>t</td>\n",
       "      <td>85.0</td>\n",
       "      <td>241032</td>\n",
       "      <td>956883</td>\n",
       "      <td>3.0</td>\n",
       "      <td>47.636289</td>\n",
       "      <td>-122.371025</td>\n",
       "      <td>4</td>\n",
       "      <td>...</td>\n",
       "      <td>0</td>\n",
       "      <td>1</td>\n",
       "      <td>1</td>\n",
       "      <td>0</td>\n",
       "      <td>0</td>\n",
       "      <td>1</td>\n",
       "      <td>0</td>\n",
       "      <td>0</td>\n",
       "      <td>1</td>\n",
       "      <td>0</td>\n",
       "    </tr>\n",
       "    <tr>\n",
       "      <th>2</th>\n",
       "      <td>241032</td>\n",
       "      <td>2016-01-13</td>\n",
       "      <td>t</td>\n",
       "      <td>85.0</td>\n",
       "      <td>241032</td>\n",
       "      <td>956883</td>\n",
       "      <td>3.0</td>\n",
       "      <td>47.636289</td>\n",
       "      <td>-122.371025</td>\n",
       "      <td>4</td>\n",
       "      <td>...</td>\n",
       "      <td>0</td>\n",
       "      <td>1</td>\n",
       "      <td>1</td>\n",
       "      <td>0</td>\n",
       "      <td>0</td>\n",
       "      <td>1</td>\n",
       "      <td>0</td>\n",
       "      <td>0</td>\n",
       "      <td>1</td>\n",
       "      <td>0</td>\n",
       "    </tr>\n",
       "    <tr>\n",
       "      <th>3</th>\n",
       "      <td>241032</td>\n",
       "      <td>2016-01-14</td>\n",
       "      <td>t</td>\n",
       "      <td>85.0</td>\n",
       "      <td>241032</td>\n",
       "      <td>956883</td>\n",
       "      <td>3.0</td>\n",
       "      <td>47.636289</td>\n",
       "      <td>-122.371025</td>\n",
       "      <td>4</td>\n",
       "      <td>...</td>\n",
       "      <td>0</td>\n",
       "      <td>1</td>\n",
       "      <td>1</td>\n",
       "      <td>0</td>\n",
       "      <td>0</td>\n",
       "      <td>1</td>\n",
       "      <td>0</td>\n",
       "      <td>0</td>\n",
       "      <td>1</td>\n",
       "      <td>0</td>\n",
       "    </tr>\n",
       "    <tr>\n",
       "      <th>4</th>\n",
       "      <td>241032</td>\n",
       "      <td>2016-01-18</td>\n",
       "      <td>t</td>\n",
       "      <td>85.0</td>\n",
       "      <td>241032</td>\n",
       "      <td>956883</td>\n",
       "      <td>3.0</td>\n",
       "      <td>47.636289</td>\n",
       "      <td>-122.371025</td>\n",
       "      <td>4</td>\n",
       "      <td>...</td>\n",
       "      <td>0</td>\n",
       "      <td>1</td>\n",
       "      <td>1</td>\n",
       "      <td>0</td>\n",
       "      <td>0</td>\n",
       "      <td>1</td>\n",
       "      <td>0</td>\n",
       "      <td>0</td>\n",
       "      <td>1</td>\n",
       "      <td>0</td>\n",
       "    </tr>\n",
       "  </tbody>\n",
       "</table>\n",
       "<p>5 rows × 37 columns</p>\n",
       "</div>"
      ],
      "text/plain": [
       "   listing_id       date available  price_calendar      id  host_id  \\\n",
       "0      241032 2016-01-04         t            85.0  241032   956883   \n",
       "1      241032 2016-01-05         t            85.0  241032   956883   \n",
       "2      241032 2016-01-13         t            85.0  241032   956883   \n",
       "3      241032 2016-01-14         t            85.0  241032   956883   \n",
       "4      241032 2016-01-18         t            85.0  241032   956883   \n",
       "\n",
       "   host_total_listings_count   latitude   longitude  accommodates  ...  \\\n",
       "0                        3.0  47.636289 -122.371025             4  ...   \n",
       "1                        3.0  47.636289 -122.371025             4  ...   \n",
       "2                        3.0  47.636289 -122.371025             4  ...   \n",
       "3                        3.0  47.636289 -122.371025             4  ...   \n",
       "4                        3.0  47.636289 -122.371025             4  ...   \n",
       "\n",
       "   bed_type_Other  bed_type_Real Bed  property_type_Apartment  \\\n",
       "0               0                  1                        1   \n",
       "1               0                  1                        1   \n",
       "2               0                  1                        1   \n",
       "3               0                  1                        1   \n",
       "4               0                  1                        1   \n",
       "\n",
       "   property_type_House  property_type_Other  room_type_Entire home/apt  \\\n",
       "0                    0                    0                          1   \n",
       "1                    0                    0                          1   \n",
       "2                    0                    0                          1   \n",
       "3                    0                    0                          1   \n",
       "4                    0                    0                          1   \n",
       "\n",
       "   room_type_Private room  room_type_Shared room  host_is_superhost_f  \\\n",
       "0                       0                      0                    1   \n",
       "1                       0                      0                    1   \n",
       "2                       0                      0                    1   \n",
       "3                       0                      0                    1   \n",
       "4                       0                      0                    1   \n",
       "\n",
       "   host_is_superhost_t  \n",
       "0                    0  \n",
       "1                    0  \n",
       "2                    0  \n",
       "3                    0  \n",
       "4                    0  \n",
       "\n",
       "[5 rows x 37 columns]"
      ]
     },
     "execution_count": 62,
     "metadata": {},
     "output_type": "execute_result"
    }
   ],
   "source": [
    "joined_calendar_listings_dummy.head(5)"
   ]
  },
  {
   "cell_type": "markdown",
   "metadata": {},
   "source": [
    "#### Similar to above, but join listings_df (no dummy) and calendar df\n",
    "\n",
    "Just so I can visualize data in EDA file"
   ]
  },
  {
   "cell_type": "code",
   "execution_count": 63,
   "metadata": {},
   "outputs": [],
   "source": [
    "joined_calendar_listings = calendar_df_nonull.merge(listings_df, how = 'left',\\\n",
    "                                                    left_on = 'listing_id', right_on = 'id')\n",
    "\n",
    "joined_calendar_listings.rename(columns={'price_x':'price_calendar'}, inplace = True)"
   ]
  },
  {
   "cell_type": "code",
   "execution_count": 64,
   "metadata": {},
   "outputs": [
    {
     "data": {
      "text/html": [
       "<div>\n",
       "<style scoped>\n",
       "    .dataframe tbody tr th:only-of-type {\n",
       "        vertical-align: middle;\n",
       "    }\n",
       "\n",
       "    .dataframe tbody tr th {\n",
       "        vertical-align: top;\n",
       "    }\n",
       "\n",
       "    .dataframe thead th {\n",
       "        text-align: right;\n",
       "    }\n",
       "</style>\n",
       "<table border=\"1\" class=\"dataframe\">\n",
       "  <thead>\n",
       "    <tr style=\"text-align: right;\">\n",
       "      <th></th>\n",
       "      <th>listing_id</th>\n",
       "      <th>date</th>\n",
       "      <th>available</th>\n",
       "      <th>price_calendar</th>\n",
       "      <th>id</th>\n",
       "      <th>host_id</th>\n",
       "      <th>host_response_time</th>\n",
       "      <th>host_response_rate</th>\n",
       "      <th>host_is_superhost</th>\n",
       "      <th>host_total_listings_count</th>\n",
       "      <th>...</th>\n",
       "      <th>availability_30</th>\n",
       "      <th>availability_60</th>\n",
       "      <th>availability_90</th>\n",
       "      <th>availability_365</th>\n",
       "      <th>number_of_reviews</th>\n",
       "      <th>review_scores_rating</th>\n",
       "      <th>cancellation_policy</th>\n",
       "      <th>reviews_per_month</th>\n",
       "      <th>days_hosted</th>\n",
       "      <th>neighborhood_type</th>\n",
       "    </tr>\n",
       "  </thead>\n",
       "  <tbody>\n",
       "    <tr>\n",
       "      <th>0</th>\n",
       "      <td>241032</td>\n",
       "      <td>2016-01-04</td>\n",
       "      <td>t</td>\n",
       "      <td>85.0</td>\n",
       "      <td>241032</td>\n",
       "      <td>956883</td>\n",
       "      <td>2.0</td>\n",
       "      <td>96.0</td>\n",
       "      <td>f</td>\n",
       "      <td>3.0</td>\n",
       "      <td>...</td>\n",
       "      <td>14</td>\n",
       "      <td>41</td>\n",
       "      <td>71</td>\n",
       "      <td>346</td>\n",
       "      <td>207</td>\n",
       "      <td>95.0</td>\n",
       "      <td>2</td>\n",
       "      <td>4.07</td>\n",
       "      <td>1607.0</td>\n",
       "      <td>high price</td>\n",
       "    </tr>\n",
       "    <tr>\n",
       "      <th>1</th>\n",
       "      <td>241032</td>\n",
       "      <td>2016-01-05</td>\n",
       "      <td>t</td>\n",
       "      <td>85.0</td>\n",
       "      <td>241032</td>\n",
       "      <td>956883</td>\n",
       "      <td>2.0</td>\n",
       "      <td>96.0</td>\n",
       "      <td>f</td>\n",
       "      <td>3.0</td>\n",
       "      <td>...</td>\n",
       "      <td>14</td>\n",
       "      <td>41</td>\n",
       "      <td>71</td>\n",
       "      <td>346</td>\n",
       "      <td>207</td>\n",
       "      <td>95.0</td>\n",
       "      <td>2</td>\n",
       "      <td>4.07</td>\n",
       "      <td>1607.0</td>\n",
       "      <td>high price</td>\n",
       "    </tr>\n",
       "    <tr>\n",
       "      <th>2</th>\n",
       "      <td>241032</td>\n",
       "      <td>2016-01-13</td>\n",
       "      <td>t</td>\n",
       "      <td>85.0</td>\n",
       "      <td>241032</td>\n",
       "      <td>956883</td>\n",
       "      <td>2.0</td>\n",
       "      <td>96.0</td>\n",
       "      <td>f</td>\n",
       "      <td>3.0</td>\n",
       "      <td>...</td>\n",
       "      <td>14</td>\n",
       "      <td>41</td>\n",
       "      <td>71</td>\n",
       "      <td>346</td>\n",
       "      <td>207</td>\n",
       "      <td>95.0</td>\n",
       "      <td>2</td>\n",
       "      <td>4.07</td>\n",
       "      <td>1607.0</td>\n",
       "      <td>high price</td>\n",
       "    </tr>\n",
       "    <tr>\n",
       "      <th>3</th>\n",
       "      <td>241032</td>\n",
       "      <td>2016-01-14</td>\n",
       "      <td>t</td>\n",
       "      <td>85.0</td>\n",
       "      <td>241032</td>\n",
       "      <td>956883</td>\n",
       "      <td>2.0</td>\n",
       "      <td>96.0</td>\n",
       "      <td>f</td>\n",
       "      <td>3.0</td>\n",
       "      <td>...</td>\n",
       "      <td>14</td>\n",
       "      <td>41</td>\n",
       "      <td>71</td>\n",
       "      <td>346</td>\n",
       "      <td>207</td>\n",
       "      <td>95.0</td>\n",
       "      <td>2</td>\n",
       "      <td>4.07</td>\n",
       "      <td>1607.0</td>\n",
       "      <td>high price</td>\n",
       "    </tr>\n",
       "    <tr>\n",
       "      <th>4</th>\n",
       "      <td>241032</td>\n",
       "      <td>2016-01-18</td>\n",
       "      <td>t</td>\n",
       "      <td>85.0</td>\n",
       "      <td>241032</td>\n",
       "      <td>956883</td>\n",
       "      <td>2.0</td>\n",
       "      <td>96.0</td>\n",
       "      <td>f</td>\n",
       "      <td>3.0</td>\n",
       "      <td>...</td>\n",
       "      <td>14</td>\n",
       "      <td>41</td>\n",
       "      <td>71</td>\n",
       "      <td>346</td>\n",
       "      <td>207</td>\n",
       "      <td>95.0</td>\n",
       "      <td>2</td>\n",
       "      <td>4.07</td>\n",
       "      <td>1607.0</td>\n",
       "      <td>high price</td>\n",
       "    </tr>\n",
       "  </tbody>\n",
       "</table>\n",
       "<p>5 rows × 33 columns</p>\n",
       "</div>"
      ],
      "text/plain": [
       "   listing_id       date available  price_calendar      id  host_id  \\\n",
       "0      241032 2016-01-04         t            85.0  241032   956883   \n",
       "1      241032 2016-01-05         t            85.0  241032   956883   \n",
       "2      241032 2016-01-13         t            85.0  241032   956883   \n",
       "3      241032 2016-01-14         t            85.0  241032   956883   \n",
       "4      241032 2016-01-18         t            85.0  241032   956883   \n",
       "\n",
       "   host_response_time  host_response_rate host_is_superhost  \\\n",
       "0                 2.0                96.0                 f   \n",
       "1                 2.0                96.0                 f   \n",
       "2                 2.0                96.0                 f   \n",
       "3                 2.0                96.0                 f   \n",
       "4                 2.0                96.0                 f   \n",
       "\n",
       "   host_total_listings_count  ... availability_30  availability_60  \\\n",
       "0                        3.0  ...              14               41   \n",
       "1                        3.0  ...              14               41   \n",
       "2                        3.0  ...              14               41   \n",
       "3                        3.0  ...              14               41   \n",
       "4                        3.0  ...              14               41   \n",
       "\n",
       "   availability_90 availability_365 number_of_reviews  review_scores_rating  \\\n",
       "0               71              346               207                  95.0   \n",
       "1               71              346               207                  95.0   \n",
       "2               71              346               207                  95.0   \n",
       "3               71              346               207                  95.0   \n",
       "4               71              346               207                  95.0   \n",
       "\n",
       "   cancellation_policy  reviews_per_month  days_hosted neighborhood_type  \n",
       "0                    2               4.07       1607.0        high price  \n",
       "1                    2               4.07       1607.0        high price  \n",
       "2                    2               4.07       1607.0        high price  \n",
       "3                    2               4.07       1607.0        high price  \n",
       "4                    2               4.07       1607.0        high price  \n",
       "\n",
       "[5 rows x 33 columns]"
      ]
     },
     "execution_count": 64,
     "metadata": {},
     "output_type": "execute_result"
    }
   ],
   "source": [
    "joined_calendar_listings.head(5)"
   ]
  },
  {
   "cell_type": "markdown",
   "metadata": {},
   "source": [
    "## Remove null + drop some columns"
   ]
  },
  {
   "cell_type": "code",
   "execution_count": 65,
   "metadata": {},
   "outputs": [
    {
     "name": "stderr",
     "output_type": "stream",
     "text": [
      "/Library/Frameworks/Python.framework/Versions/3.7/lib/python3.7/site-packages/ipykernel_launcher.py:7: SettingWithCopyWarning: \n",
      "A value is trying to be set on a copy of a slice from a DataFrame\n",
      "\n",
      "See the caveats in the documentation: http://pandas.pydata.org/pandas-docs/stable/indexing.html#indexing-view-versus-copy\n",
      "  import sys\n"
     ]
    }
   ],
   "source": [
    "listings_df.dropna(how = 'any', axis = 0, inplace = True)\n",
    "#listings_df.drop(columns = ['host_id', 'longitude', 'latitude'], axis = 1, inplace = True)\n",
    "\n",
    "listings_df_dummy.dropna(how = 'any', axis = 0, inplace = True)\n",
    "#listings_df_dummy.drop(columns = ['id', 'host_id', 'longitude', 'latitude'], axis = 1, inplace = True)\n",
    "\n",
    "listings_df_price.dropna(how = 'any', axis = 0, inplace = True)\n",
    "#listings_df_price.drop(columns = ['id', 'host_id', 'longitude', 'latitude'], axis = 1, inplace = True)\n",
    "\n",
    "joined_calendar_listings.dropna(how = 'any', axis = 0, inplace = True)\n",
    "#joined_calendar_listings.drop(columns = ['id', 'host_id', 'longitude', 'latitude'], axis = 1, inplace = True)\n",
    "\n",
    "joined_calendar_listings_dummy.dropna(how = 'any', axis = 0, inplace = True)\n",
    "#joined_calendar_listings_dummy.drop(columns = ['id', 'host_id', 'longitude', 'latitude'], axis = 1, inplace = True)"
   ]
  },
  {
   "cell_type": "markdown",
   "metadata": {},
   "source": [
    "## Export"
   ]
  },
  {
   "cell_type": "code",
   "execution_count": 66,
   "metadata": {},
   "outputs": [],
   "source": [
    "listings_df.to_csv('./treated_data/listings_df.csv')\n",
    "listings_df_dummy.to_csv('./treated_data/listings_df_dummy.csv')\n",
    "listings_df_price.to_csv('./treated_data/listings_df_price.csv')\n",
    "joined_calendar_listings.to_csv('./treated_data/joined_calendar_listings.csv')\n",
    "joined_calendar_listings_dummy.to_csv('./treated_data/joined_calendar_listings_dummy.csv')"
   ]
  }
 ],
 "metadata": {
  "kernelspec": {
   "display_name": "Python 3",
   "language": "python",
   "name": "python3"
  },
  "language_info": {
   "codemirror_mode": {
    "name": "ipython",
    "version": 3
   },
   "file_extension": ".py",
   "mimetype": "text/x-python",
   "name": "python",
   "nbconvert_exporter": "python",
   "pygments_lexer": "ipython3",
   "version": "3.7.2"
  }
 },
 "nbformat": 4,
 "nbformat_minor": 2
}
